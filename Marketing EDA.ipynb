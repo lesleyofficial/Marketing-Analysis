{
 "cells": [
  {
   "cell_type": "markdown",
   "metadata": {},
   "source": [
    "Recap & Conclusion from Analysis\n",
    "\n",
    "Overall Goal:\n",
    "\n",
    "    As a Marketing Analyst, analyzing datasets to understand problem of current markeing campaign problems and propose data-driven solutions for Chief Marketing Officer.\n",
    "\n",
    "Actionable Findings:\n",
    "\n",
    "    1. Most successful advertising campaign was the most recent campaign (column name: Response), and was particularly successful in Mexico (more than 60% acceptance rate).\n",
    "    2. Advertising Campaign Acceptance is positively correlated with Income, negatively correlated with Having Kids/Teens\n",
    "    3. Most successful products are Wines and Meats (evaluated by average customer spending on items)\n",
    "    4. Underperforming channels are Deals & Catalog purchases (evaluated by average customer purchases via these channels)\n",
    "    5. Best perfroming channels are web & store (evaluated by average customer purchases via these channels)\n",
    "    6. Customer Portraits: 50 years old with income around $52000 per year, having 1 dependent(kid/teen), having become customer since 2013, for 9 years, with an average recency of 49 days.\n",
    "    7. Profits come from senior loyal customers.\n",
    "\n",
    "Suggestions:\n",
    "\n",
    "    1. Conduct future advertising campaigns using same model recently implemented in Mexico.\n",
    "    2. Create two streams of targeted advertising campaigns, one aimed at high-income individuals without kids/teens and another aimed at lower-income individuals with kids/teens.\n",
    "    3. Focus advertising campaigns on boosting sales of less popular items.\n",
    "    4. Focus advertising campaigns on more successful channels, increase customer acquisition.\n"
   ]
  },
  {
   "cell_type": "code",
   "execution_count": 15,
   "metadata": {},
   "outputs": [],
   "source": [
    "import numpy as np\n",
    "import pandas as pd\n",
    "import seaborn as sns\n",
    "import matplotlib as mpl\n",
    "import matplotlib.pyplot as plt\n",
    "\n",
    "import warnings\n",
    "warnings.filterwarnings('ignore')"
   ]
  },
  {
   "cell_type": "code",
   "execution_count": 23,
   "metadata": {},
   "outputs": [
    {
     "data": {
      "text/html": [
       "<div>\n",
       "<style scoped>\n",
       "    .dataframe tbody tr th:only-of-type {\n",
       "        vertical-align: middle;\n",
       "    }\n",
       "\n",
       "    .dataframe tbody tr th {\n",
       "        vertical-align: top;\n",
       "    }\n",
       "\n",
       "    .dataframe thead th {\n",
       "        text-align: right;\n",
       "    }\n",
       "</style>\n",
       "<table border=\"1\" class=\"dataframe\">\n",
       "  <thead>\n",
       "    <tr style=\"text-align: right;\">\n",
       "      <th></th>\n",
       "      <th>ID</th>\n",
       "      <th>Year_Birth</th>\n",
       "      <th>Education</th>\n",
       "      <th>Marital_Status</th>\n",
       "      <th>Income</th>\n",
       "      <th>Kidhome</th>\n",
       "      <th>Teenhome</th>\n",
       "      <th>Dt_Customer</th>\n",
       "      <th>Recency</th>\n",
       "      <th>MntWines</th>\n",
       "      <th>...</th>\n",
       "      <th>NumStorePurchases</th>\n",
       "      <th>NumWebVisitsMonth</th>\n",
       "      <th>AcceptedCmp3</th>\n",
       "      <th>AcceptedCmp4</th>\n",
       "      <th>AcceptedCmp5</th>\n",
       "      <th>AcceptedCmp1</th>\n",
       "      <th>AcceptedCmp2</th>\n",
       "      <th>Response</th>\n",
       "      <th>Complain</th>\n",
       "      <th>Country</th>\n",
       "    </tr>\n",
       "  </thead>\n",
       "  <tbody>\n",
       "    <tr>\n",
       "      <th>0</th>\n",
       "      <td>1826</td>\n",
       "      <td>1970</td>\n",
       "      <td>Graduation</td>\n",
       "      <td>Divorced</td>\n",
       "      <td>$84,835.00</td>\n",
       "      <td>0</td>\n",
       "      <td>0</td>\n",
       "      <td>6/16/14</td>\n",
       "      <td>0</td>\n",
       "      <td>189</td>\n",
       "      <td>...</td>\n",
       "      <td>6</td>\n",
       "      <td>1</td>\n",
       "      <td>0</td>\n",
       "      <td>0</td>\n",
       "      <td>0</td>\n",
       "      <td>0</td>\n",
       "      <td>0</td>\n",
       "      <td>1</td>\n",
       "      <td>0</td>\n",
       "      <td>SP</td>\n",
       "    </tr>\n",
       "    <tr>\n",
       "      <th>1</th>\n",
       "      <td>1</td>\n",
       "      <td>1961</td>\n",
       "      <td>Graduation</td>\n",
       "      <td>Single</td>\n",
       "      <td>$57,091.00</td>\n",
       "      <td>0</td>\n",
       "      <td>0</td>\n",
       "      <td>6/15/14</td>\n",
       "      <td>0</td>\n",
       "      <td>464</td>\n",
       "      <td>...</td>\n",
       "      <td>7</td>\n",
       "      <td>5</td>\n",
       "      <td>0</td>\n",
       "      <td>0</td>\n",
       "      <td>0</td>\n",
       "      <td>0</td>\n",
       "      <td>1</td>\n",
       "      <td>1</td>\n",
       "      <td>0</td>\n",
       "      <td>CA</td>\n",
       "    </tr>\n",
       "    <tr>\n",
       "      <th>2</th>\n",
       "      <td>10476</td>\n",
       "      <td>1958</td>\n",
       "      <td>Graduation</td>\n",
       "      <td>Married</td>\n",
       "      <td>$67,267.00</td>\n",
       "      <td>0</td>\n",
       "      <td>1</td>\n",
       "      <td>5/13/14</td>\n",
       "      <td>0</td>\n",
       "      <td>134</td>\n",
       "      <td>...</td>\n",
       "      <td>5</td>\n",
       "      <td>2</td>\n",
       "      <td>0</td>\n",
       "      <td>0</td>\n",
       "      <td>0</td>\n",
       "      <td>0</td>\n",
       "      <td>0</td>\n",
       "      <td>0</td>\n",
       "      <td>0</td>\n",
       "      <td>US</td>\n",
       "    </tr>\n",
       "    <tr>\n",
       "      <th>3</th>\n",
       "      <td>1386</td>\n",
       "      <td>1967</td>\n",
       "      <td>Graduation</td>\n",
       "      <td>Together</td>\n",
       "      <td>$32,474.00</td>\n",
       "      <td>1</td>\n",
       "      <td>1</td>\n",
       "      <td>5/11/14</td>\n",
       "      <td>0</td>\n",
       "      <td>10</td>\n",
       "      <td>...</td>\n",
       "      <td>2</td>\n",
       "      <td>7</td>\n",
       "      <td>0</td>\n",
       "      <td>0</td>\n",
       "      <td>0</td>\n",
       "      <td>0</td>\n",
       "      <td>0</td>\n",
       "      <td>0</td>\n",
       "      <td>0</td>\n",
       "      <td>AUS</td>\n",
       "    </tr>\n",
       "    <tr>\n",
       "      <th>4</th>\n",
       "      <td>5371</td>\n",
       "      <td>1989</td>\n",
       "      <td>Graduation</td>\n",
       "      <td>Single</td>\n",
       "      <td>$21,474.00</td>\n",
       "      <td>1</td>\n",
       "      <td>0</td>\n",
       "      <td>4/8/14</td>\n",
       "      <td>0</td>\n",
       "      <td>6</td>\n",
       "      <td>...</td>\n",
       "      <td>2</td>\n",
       "      <td>7</td>\n",
       "      <td>1</td>\n",
       "      <td>0</td>\n",
       "      <td>0</td>\n",
       "      <td>0</td>\n",
       "      <td>0</td>\n",
       "      <td>1</td>\n",
       "      <td>0</td>\n",
       "      <td>SP</td>\n",
       "    </tr>\n",
       "  </tbody>\n",
       "</table>\n",
       "<p>5 rows × 28 columns</p>\n",
       "</div>"
      ],
      "text/plain": [
       "      ID  Year_Birth   Education Marital_Status      Income   Kidhome  \\\n",
       "0   1826        1970  Graduation       Divorced  $84,835.00         0   \n",
       "1      1        1961  Graduation         Single  $57,091.00         0   \n",
       "2  10476        1958  Graduation        Married  $67,267.00         0   \n",
       "3   1386        1967  Graduation       Together  $32,474.00         1   \n",
       "4   5371        1989  Graduation         Single  $21,474.00         1   \n",
       "\n",
       "   Teenhome Dt_Customer  Recency  MntWines  ...  NumStorePurchases  \\\n",
       "0         0     6/16/14        0       189  ...                  6   \n",
       "1         0     6/15/14        0       464  ...                  7   \n",
       "2         1     5/13/14        0       134  ...                  5   \n",
       "3         1     5/11/14        0        10  ...                  2   \n",
       "4         0      4/8/14        0         6  ...                  2   \n",
       "\n",
       "   NumWebVisitsMonth  AcceptedCmp3  AcceptedCmp4  AcceptedCmp5  AcceptedCmp1  \\\n",
       "0                  1             0             0             0             0   \n",
       "1                  5             0             0             0             0   \n",
       "2                  2             0             0             0             0   \n",
       "3                  7             0             0             0             0   \n",
       "4                  7             1             0             0             0   \n",
       "\n",
       "   AcceptedCmp2  Response  Complain  Country  \n",
       "0             0         1         0       SP  \n",
       "1             1         1         0       CA  \n",
       "2             0         0         0       US  \n",
       "3             0         0         0      AUS  \n",
       "4             0         1         0       SP  \n",
       "\n",
       "[5 rows x 28 columns]"
      ]
     },
     "execution_count": 23,
     "metadata": {},
     "output_type": "execute_result"
    }
   ],
   "source": [
    "data = pd.read_csv('marketing_data.csv')\n",
    "data.head()"
   ]
  },
  {
   "cell_type": "markdown",
   "metadata": {},
   "source": [
    "Exploratory Data Analysis"
   ]
  },
  {
   "cell_type": "code",
   "execution_count": 24,
   "metadata": {},
   "outputs": [
    {
     "data": {
      "text/html": [
       "<div>\n",
       "<style scoped>\n",
       "    .dataframe tbody tr th:only-of-type {\n",
       "        vertical-align: middle;\n",
       "    }\n",
       "\n",
       "    .dataframe tbody tr th {\n",
       "        vertical-align: top;\n",
       "    }\n",
       "\n",
       "    .dataframe thead th {\n",
       "        text-align: right;\n",
       "    }\n",
       "</style>\n",
       "<table border=\"1\" class=\"dataframe\">\n",
       "  <thead>\n",
       "    <tr style=\"text-align: right;\">\n",
       "      <th></th>\n",
       "      <th>ID</th>\n",
       "      <th>Year_Birth</th>\n",
       "      <th>Kidhome</th>\n",
       "      <th>Teenhome</th>\n",
       "      <th>Recency</th>\n",
       "      <th>MntWines</th>\n",
       "      <th>MntFruits</th>\n",
       "      <th>MntMeatProducts</th>\n",
       "      <th>MntFishProducts</th>\n",
       "      <th>MntSweetProducts</th>\n",
       "      <th>...</th>\n",
       "      <th>NumCatalogPurchases</th>\n",
       "      <th>NumStorePurchases</th>\n",
       "      <th>NumWebVisitsMonth</th>\n",
       "      <th>AcceptedCmp3</th>\n",
       "      <th>AcceptedCmp4</th>\n",
       "      <th>AcceptedCmp5</th>\n",
       "      <th>AcceptedCmp1</th>\n",
       "      <th>AcceptedCmp2</th>\n",
       "      <th>Response</th>\n",
       "      <th>Complain</th>\n",
       "    </tr>\n",
       "  </thead>\n",
       "  <tbody>\n",
       "    <tr>\n",
       "      <th>count</th>\n",
       "      <td>2240.000000</td>\n",
       "      <td>2240.000000</td>\n",
       "      <td>2240.000000</td>\n",
       "      <td>2240.000000</td>\n",
       "      <td>2240.000000</td>\n",
       "      <td>2240.000000</td>\n",
       "      <td>2240.000000</td>\n",
       "      <td>2240.000000</td>\n",
       "      <td>2240.000000</td>\n",
       "      <td>2240.000000</td>\n",
       "      <td>...</td>\n",
       "      <td>2240.000000</td>\n",
       "      <td>2240.000000</td>\n",
       "      <td>2240.000000</td>\n",
       "      <td>2240.000000</td>\n",
       "      <td>2240.000000</td>\n",
       "      <td>2240.000000</td>\n",
       "      <td>2240.000000</td>\n",
       "      <td>2240.000000</td>\n",
       "      <td>2240.000000</td>\n",
       "      <td>2240.000000</td>\n",
       "    </tr>\n",
       "    <tr>\n",
       "      <th>mean</th>\n",
       "      <td>5592.159821</td>\n",
       "      <td>1968.805804</td>\n",
       "      <td>0.444196</td>\n",
       "      <td>0.506250</td>\n",
       "      <td>49.109375</td>\n",
       "      <td>303.935714</td>\n",
       "      <td>26.302232</td>\n",
       "      <td>166.950000</td>\n",
       "      <td>37.525446</td>\n",
       "      <td>27.062946</td>\n",
       "      <td>...</td>\n",
       "      <td>2.662054</td>\n",
       "      <td>5.790179</td>\n",
       "      <td>5.316518</td>\n",
       "      <td>0.072768</td>\n",
       "      <td>0.074554</td>\n",
       "      <td>0.072768</td>\n",
       "      <td>0.064286</td>\n",
       "      <td>0.013393</td>\n",
       "      <td>0.149107</td>\n",
       "      <td>0.009375</td>\n",
       "    </tr>\n",
       "    <tr>\n",
       "      <th>std</th>\n",
       "      <td>3246.662198</td>\n",
       "      <td>11.984069</td>\n",
       "      <td>0.538398</td>\n",
       "      <td>0.544538</td>\n",
       "      <td>28.962453</td>\n",
       "      <td>336.597393</td>\n",
       "      <td>39.773434</td>\n",
       "      <td>225.715373</td>\n",
       "      <td>54.628979</td>\n",
       "      <td>41.280498</td>\n",
       "      <td>...</td>\n",
       "      <td>2.923101</td>\n",
       "      <td>3.250958</td>\n",
       "      <td>2.426645</td>\n",
       "      <td>0.259813</td>\n",
       "      <td>0.262728</td>\n",
       "      <td>0.259813</td>\n",
       "      <td>0.245316</td>\n",
       "      <td>0.114976</td>\n",
       "      <td>0.356274</td>\n",
       "      <td>0.096391</td>\n",
       "    </tr>\n",
       "    <tr>\n",
       "      <th>min</th>\n",
       "      <td>0.000000</td>\n",
       "      <td>1893.000000</td>\n",
       "      <td>0.000000</td>\n",
       "      <td>0.000000</td>\n",
       "      <td>0.000000</td>\n",
       "      <td>0.000000</td>\n",
       "      <td>0.000000</td>\n",
       "      <td>0.000000</td>\n",
       "      <td>0.000000</td>\n",
       "      <td>0.000000</td>\n",
       "      <td>...</td>\n",
       "      <td>0.000000</td>\n",
       "      <td>0.000000</td>\n",
       "      <td>0.000000</td>\n",
       "      <td>0.000000</td>\n",
       "      <td>0.000000</td>\n",
       "      <td>0.000000</td>\n",
       "      <td>0.000000</td>\n",
       "      <td>0.000000</td>\n",
       "      <td>0.000000</td>\n",
       "      <td>0.000000</td>\n",
       "    </tr>\n",
       "    <tr>\n",
       "      <th>25%</th>\n",
       "      <td>2828.250000</td>\n",
       "      <td>1959.000000</td>\n",
       "      <td>0.000000</td>\n",
       "      <td>0.000000</td>\n",
       "      <td>24.000000</td>\n",
       "      <td>23.750000</td>\n",
       "      <td>1.000000</td>\n",
       "      <td>16.000000</td>\n",
       "      <td>3.000000</td>\n",
       "      <td>1.000000</td>\n",
       "      <td>...</td>\n",
       "      <td>0.000000</td>\n",
       "      <td>3.000000</td>\n",
       "      <td>3.000000</td>\n",
       "      <td>0.000000</td>\n",
       "      <td>0.000000</td>\n",
       "      <td>0.000000</td>\n",
       "      <td>0.000000</td>\n",
       "      <td>0.000000</td>\n",
       "      <td>0.000000</td>\n",
       "      <td>0.000000</td>\n",
       "    </tr>\n",
       "    <tr>\n",
       "      <th>50%</th>\n",
       "      <td>5458.500000</td>\n",
       "      <td>1970.000000</td>\n",
       "      <td>0.000000</td>\n",
       "      <td>0.000000</td>\n",
       "      <td>49.000000</td>\n",
       "      <td>173.500000</td>\n",
       "      <td>8.000000</td>\n",
       "      <td>67.000000</td>\n",
       "      <td>12.000000</td>\n",
       "      <td>8.000000</td>\n",
       "      <td>...</td>\n",
       "      <td>2.000000</td>\n",
       "      <td>5.000000</td>\n",
       "      <td>6.000000</td>\n",
       "      <td>0.000000</td>\n",
       "      <td>0.000000</td>\n",
       "      <td>0.000000</td>\n",
       "      <td>0.000000</td>\n",
       "      <td>0.000000</td>\n",
       "      <td>0.000000</td>\n",
       "      <td>0.000000</td>\n",
       "    </tr>\n",
       "    <tr>\n",
       "      <th>75%</th>\n",
       "      <td>8427.750000</td>\n",
       "      <td>1977.000000</td>\n",
       "      <td>1.000000</td>\n",
       "      <td>1.000000</td>\n",
       "      <td>74.000000</td>\n",
       "      <td>504.250000</td>\n",
       "      <td>33.000000</td>\n",
       "      <td>232.000000</td>\n",
       "      <td>50.000000</td>\n",
       "      <td>33.000000</td>\n",
       "      <td>...</td>\n",
       "      <td>4.000000</td>\n",
       "      <td>8.000000</td>\n",
       "      <td>7.000000</td>\n",
       "      <td>0.000000</td>\n",
       "      <td>0.000000</td>\n",
       "      <td>0.000000</td>\n",
       "      <td>0.000000</td>\n",
       "      <td>0.000000</td>\n",
       "      <td>0.000000</td>\n",
       "      <td>0.000000</td>\n",
       "    </tr>\n",
       "    <tr>\n",
       "      <th>max</th>\n",
       "      <td>11191.000000</td>\n",
       "      <td>1996.000000</td>\n",
       "      <td>2.000000</td>\n",
       "      <td>2.000000</td>\n",
       "      <td>99.000000</td>\n",
       "      <td>1493.000000</td>\n",
       "      <td>199.000000</td>\n",
       "      <td>1725.000000</td>\n",
       "      <td>259.000000</td>\n",
       "      <td>263.000000</td>\n",
       "      <td>...</td>\n",
       "      <td>28.000000</td>\n",
       "      <td>13.000000</td>\n",
       "      <td>20.000000</td>\n",
       "      <td>1.000000</td>\n",
       "      <td>1.000000</td>\n",
       "      <td>1.000000</td>\n",
       "      <td>1.000000</td>\n",
       "      <td>1.000000</td>\n",
       "      <td>1.000000</td>\n",
       "      <td>1.000000</td>\n",
       "    </tr>\n",
       "  </tbody>\n",
       "</table>\n",
       "<p>8 rows × 23 columns</p>\n",
       "</div>"
      ],
      "text/plain": [
       "                 ID   Year_Birth      Kidhome     Teenhome      Recency  \\\n",
       "count   2240.000000  2240.000000  2240.000000  2240.000000  2240.000000   \n",
       "mean    5592.159821  1968.805804     0.444196     0.506250    49.109375   \n",
       "std     3246.662198    11.984069     0.538398     0.544538    28.962453   \n",
       "min        0.000000  1893.000000     0.000000     0.000000     0.000000   \n",
       "25%     2828.250000  1959.000000     0.000000     0.000000    24.000000   \n",
       "50%     5458.500000  1970.000000     0.000000     0.000000    49.000000   \n",
       "75%     8427.750000  1977.000000     1.000000     1.000000    74.000000   \n",
       "max    11191.000000  1996.000000     2.000000     2.000000    99.000000   \n",
       "\n",
       "          MntWines    MntFruits  MntMeatProducts  MntFishProducts  \\\n",
       "count  2240.000000  2240.000000      2240.000000      2240.000000   \n",
       "mean    303.935714    26.302232       166.950000        37.525446   \n",
       "std     336.597393    39.773434       225.715373        54.628979   \n",
       "min       0.000000     0.000000         0.000000         0.000000   \n",
       "25%      23.750000     1.000000        16.000000         3.000000   \n",
       "50%     173.500000     8.000000        67.000000        12.000000   \n",
       "75%     504.250000    33.000000       232.000000        50.000000   \n",
       "max    1493.000000   199.000000      1725.000000       259.000000   \n",
       "\n",
       "       MntSweetProducts  ...  NumCatalogPurchases  NumStorePurchases  \\\n",
       "count       2240.000000  ...          2240.000000        2240.000000   \n",
       "mean          27.062946  ...             2.662054           5.790179   \n",
       "std           41.280498  ...             2.923101           3.250958   \n",
       "min            0.000000  ...             0.000000           0.000000   \n",
       "25%            1.000000  ...             0.000000           3.000000   \n",
       "50%            8.000000  ...             2.000000           5.000000   \n",
       "75%           33.000000  ...             4.000000           8.000000   \n",
       "max          263.000000  ...            28.000000          13.000000   \n",
       "\n",
       "       NumWebVisitsMonth  AcceptedCmp3  AcceptedCmp4  AcceptedCmp5  \\\n",
       "count        2240.000000   2240.000000   2240.000000   2240.000000   \n",
       "mean            5.316518      0.072768      0.074554      0.072768   \n",
       "std             2.426645      0.259813      0.262728      0.259813   \n",
       "min             0.000000      0.000000      0.000000      0.000000   \n",
       "25%             3.000000      0.000000      0.000000      0.000000   \n",
       "50%             6.000000      0.000000      0.000000      0.000000   \n",
       "75%             7.000000      0.000000      0.000000      0.000000   \n",
       "max            20.000000      1.000000      1.000000      1.000000   \n",
       "\n",
       "       AcceptedCmp1  AcceptedCmp2     Response     Complain  \n",
       "count   2240.000000   2240.000000  2240.000000  2240.000000  \n",
       "mean       0.064286      0.013393     0.149107     0.009375  \n",
       "std        0.245316      0.114976     0.356274     0.096391  \n",
       "min        0.000000      0.000000     0.000000     0.000000  \n",
       "25%        0.000000      0.000000     0.000000     0.000000  \n",
       "50%        0.000000      0.000000     0.000000     0.000000  \n",
       "75%        0.000000      0.000000     0.000000     0.000000  \n",
       "max        1.000000      1.000000     1.000000     1.000000  \n",
       "\n",
       "[8 rows x 23 columns]"
      ]
     },
     "execution_count": 24,
     "metadata": {},
     "output_type": "execute_result"
    }
   ],
   "source": [
    "data.describe()"
   ]
  },
  {
   "cell_type": "code",
   "execution_count": 25,
   "metadata": {},
   "outputs": [
    {
     "data": {
      "text/plain": [
       "(2240, 28)"
      ]
     },
     "execution_count": 25,
     "metadata": {},
     "output_type": "execute_result"
    }
   ],
   "source": [
    "data.shape"
   ]
  },
  {
   "cell_type": "code",
   "execution_count": 26,
   "metadata": {},
   "outputs": [
    {
     "name": "stdout",
     "output_type": "stream",
     "text": [
      "  Income 's null rate: 1.07%\n"
     ]
    }
   ],
   "source": [
    "# view null values\n",
    "for i in data.columns:\n",
    "    null_rate = round(data[i].isnull().sum()/len(data)*100,2)\n",
    "    if null_rate > 0:\n",
    "        print(f\" {i}'s null rate: {null_rate}%\")"
   ]
  },
  {
   "cell_type": "code",
   "execution_count": 27,
   "metadata": {},
   "outputs": [
    {
     "name": "stdout",
     "output_type": "stream",
     "text": [
      "<class 'pandas.core.frame.DataFrame'>\n",
      "RangeIndex: 2240 entries, 0 to 2239\n",
      "Data columns (total 28 columns):\n",
      " #   Column               Non-Null Count  Dtype \n",
      "---  ------               --------------  ----- \n",
      " 0   ID                   2240 non-null   int64 \n",
      " 1   Year_Birth           2240 non-null   int64 \n",
      " 2   Education            2240 non-null   object\n",
      " 3   Marital_Status       2240 non-null   object\n",
      " 4    Income              2216 non-null   object\n",
      " 5   Kidhome              2240 non-null   int64 \n",
      " 6   Teenhome             2240 non-null   int64 \n",
      " 7   Dt_Customer          2240 non-null   object\n",
      " 8   Recency              2240 non-null   int64 \n",
      " 9   MntWines             2240 non-null   int64 \n",
      " 10  MntFruits            2240 non-null   int64 \n",
      " 11  MntMeatProducts      2240 non-null   int64 \n",
      " 12  MntFishProducts      2240 non-null   int64 \n",
      " 13  MntSweetProducts     2240 non-null   int64 \n",
      " 14  MntGoldProds         2240 non-null   int64 \n",
      " 15  NumDealsPurchases    2240 non-null   int64 \n",
      " 16  NumWebPurchases      2240 non-null   int64 \n",
      " 17  NumCatalogPurchases  2240 non-null   int64 \n",
      " 18  NumStorePurchases    2240 non-null   int64 \n",
      " 19  NumWebVisitsMonth    2240 non-null   int64 \n",
      " 20  AcceptedCmp3         2240 non-null   int64 \n",
      " 21  AcceptedCmp4         2240 non-null   int64 \n",
      " 22  AcceptedCmp5         2240 non-null   int64 \n",
      " 23  AcceptedCmp1         2240 non-null   int64 \n",
      " 24  AcceptedCmp2         2240 non-null   int64 \n",
      " 25  Response             2240 non-null   int64 \n",
      " 26  Complain             2240 non-null   int64 \n",
      " 27  Country              2240 non-null   object\n",
      "dtypes: int64(23), object(5)\n",
      "memory usage: 490.1+ KB\n"
     ]
    }
   ],
   "source": [
    "data.info()"
   ]
  },
  {
   "cell_type": "code",
   "execution_count": 28,
   "metadata": {},
   "outputs": [],
   "source": [
    "#cleaning income column: drop $/, and change to float\n",
    "data.columns = data.columns.str.replace(' ','')\n",
    "data['Income'] = data['Income'].str.replace('$','')\n",
    "data['Income'] = data['Income'].str.replace(',', '').astype('float')\n"
   ]
  },
  {
   "cell_type": "code",
   "execution_count": 30,
   "metadata": {},
   "outputs": [
    {
     "data": {
      "text/html": [
       "<div>\n",
       "<style scoped>\n",
       "    .dataframe tbody tr th:only-of-type {\n",
       "        vertical-align: middle;\n",
       "    }\n",
       "\n",
       "    .dataframe tbody tr th {\n",
       "        vertical-align: top;\n",
       "    }\n",
       "\n",
       "    .dataframe thead th {\n",
       "        text-align: right;\n",
       "    }\n",
       "</style>\n",
       "<table border=\"1\" class=\"dataframe\">\n",
       "  <thead>\n",
       "    <tr style=\"text-align: right;\">\n",
       "      <th></th>\n",
       "      <th>ID</th>\n",
       "      <th>Year_Birth</th>\n",
       "      <th>Income</th>\n",
       "      <th>Kidhome</th>\n",
       "      <th>Teenhome</th>\n",
       "      <th>Recency</th>\n",
       "      <th>MntWines</th>\n",
       "      <th>MntFruits</th>\n",
       "      <th>MntMeatProducts</th>\n",
       "      <th>MntFishProducts</th>\n",
       "      <th>...</th>\n",
       "      <th>NumCatalogPurchases</th>\n",
       "      <th>NumStorePurchases</th>\n",
       "      <th>NumWebVisitsMonth</th>\n",
       "      <th>AcceptedCmp3</th>\n",
       "      <th>AcceptedCmp4</th>\n",
       "      <th>AcceptedCmp5</th>\n",
       "      <th>AcceptedCmp1</th>\n",
       "      <th>AcceptedCmp2</th>\n",
       "      <th>Response</th>\n",
       "      <th>Complain</th>\n",
       "    </tr>\n",
       "  </thead>\n",
       "  <tbody>\n",
       "    <tr>\n",
       "      <th>count</th>\n",
       "      <td>2240.000000</td>\n",
       "      <td>2240.000000</td>\n",
       "      <td>2216.000000</td>\n",
       "      <td>2240.000000</td>\n",
       "      <td>2240.000000</td>\n",
       "      <td>2240.000000</td>\n",
       "      <td>2240.000000</td>\n",
       "      <td>2240.000000</td>\n",
       "      <td>2240.000000</td>\n",
       "      <td>2240.000000</td>\n",
       "      <td>...</td>\n",
       "      <td>2240.000000</td>\n",
       "      <td>2240.000000</td>\n",
       "      <td>2240.000000</td>\n",
       "      <td>2240.000000</td>\n",
       "      <td>2240.000000</td>\n",
       "      <td>2240.000000</td>\n",
       "      <td>2240.000000</td>\n",
       "      <td>2240.000000</td>\n",
       "      <td>2240.000000</td>\n",
       "      <td>2240.000000</td>\n",
       "    </tr>\n",
       "    <tr>\n",
       "      <th>mean</th>\n",
       "      <td>5592.159821</td>\n",
       "      <td>1968.805804</td>\n",
       "      <td>52247.251354</td>\n",
       "      <td>0.444196</td>\n",
       "      <td>0.506250</td>\n",
       "      <td>49.109375</td>\n",
       "      <td>303.935714</td>\n",
       "      <td>26.302232</td>\n",
       "      <td>166.950000</td>\n",
       "      <td>37.525446</td>\n",
       "      <td>...</td>\n",
       "      <td>2.662054</td>\n",
       "      <td>5.790179</td>\n",
       "      <td>5.316518</td>\n",
       "      <td>0.072768</td>\n",
       "      <td>0.074554</td>\n",
       "      <td>0.072768</td>\n",
       "      <td>0.064286</td>\n",
       "      <td>0.013393</td>\n",
       "      <td>0.149107</td>\n",
       "      <td>0.009375</td>\n",
       "    </tr>\n",
       "    <tr>\n",
       "      <th>std</th>\n",
       "      <td>3246.662198</td>\n",
       "      <td>11.984069</td>\n",
       "      <td>25173.076661</td>\n",
       "      <td>0.538398</td>\n",
       "      <td>0.544538</td>\n",
       "      <td>28.962453</td>\n",
       "      <td>336.597393</td>\n",
       "      <td>39.773434</td>\n",
       "      <td>225.715373</td>\n",
       "      <td>54.628979</td>\n",
       "      <td>...</td>\n",
       "      <td>2.923101</td>\n",
       "      <td>3.250958</td>\n",
       "      <td>2.426645</td>\n",
       "      <td>0.259813</td>\n",
       "      <td>0.262728</td>\n",
       "      <td>0.259813</td>\n",
       "      <td>0.245316</td>\n",
       "      <td>0.114976</td>\n",
       "      <td>0.356274</td>\n",
       "      <td>0.096391</td>\n",
       "    </tr>\n",
       "    <tr>\n",
       "      <th>min</th>\n",
       "      <td>0.000000</td>\n",
       "      <td>1893.000000</td>\n",
       "      <td>1730.000000</td>\n",
       "      <td>0.000000</td>\n",
       "      <td>0.000000</td>\n",
       "      <td>0.000000</td>\n",
       "      <td>0.000000</td>\n",
       "      <td>0.000000</td>\n",
       "      <td>0.000000</td>\n",
       "      <td>0.000000</td>\n",
       "      <td>...</td>\n",
       "      <td>0.000000</td>\n",
       "      <td>0.000000</td>\n",
       "      <td>0.000000</td>\n",
       "      <td>0.000000</td>\n",
       "      <td>0.000000</td>\n",
       "      <td>0.000000</td>\n",
       "      <td>0.000000</td>\n",
       "      <td>0.000000</td>\n",
       "      <td>0.000000</td>\n",
       "      <td>0.000000</td>\n",
       "    </tr>\n",
       "    <tr>\n",
       "      <th>25%</th>\n",
       "      <td>2828.250000</td>\n",
       "      <td>1959.000000</td>\n",
       "      <td>35303.000000</td>\n",
       "      <td>0.000000</td>\n",
       "      <td>0.000000</td>\n",
       "      <td>24.000000</td>\n",
       "      <td>23.750000</td>\n",
       "      <td>1.000000</td>\n",
       "      <td>16.000000</td>\n",
       "      <td>3.000000</td>\n",
       "      <td>...</td>\n",
       "      <td>0.000000</td>\n",
       "      <td>3.000000</td>\n",
       "      <td>3.000000</td>\n",
       "      <td>0.000000</td>\n",
       "      <td>0.000000</td>\n",
       "      <td>0.000000</td>\n",
       "      <td>0.000000</td>\n",
       "      <td>0.000000</td>\n",
       "      <td>0.000000</td>\n",
       "      <td>0.000000</td>\n",
       "    </tr>\n",
       "    <tr>\n",
       "      <th>50%</th>\n",
       "      <td>5458.500000</td>\n",
       "      <td>1970.000000</td>\n",
       "      <td>51381.500000</td>\n",
       "      <td>0.000000</td>\n",
       "      <td>0.000000</td>\n",
       "      <td>49.000000</td>\n",
       "      <td>173.500000</td>\n",
       "      <td>8.000000</td>\n",
       "      <td>67.000000</td>\n",
       "      <td>12.000000</td>\n",
       "      <td>...</td>\n",
       "      <td>2.000000</td>\n",
       "      <td>5.000000</td>\n",
       "      <td>6.000000</td>\n",
       "      <td>0.000000</td>\n",
       "      <td>0.000000</td>\n",
       "      <td>0.000000</td>\n",
       "      <td>0.000000</td>\n",
       "      <td>0.000000</td>\n",
       "      <td>0.000000</td>\n",
       "      <td>0.000000</td>\n",
       "    </tr>\n",
       "    <tr>\n",
       "      <th>75%</th>\n",
       "      <td>8427.750000</td>\n",
       "      <td>1977.000000</td>\n",
       "      <td>68522.000000</td>\n",
       "      <td>1.000000</td>\n",
       "      <td>1.000000</td>\n",
       "      <td>74.000000</td>\n",
       "      <td>504.250000</td>\n",
       "      <td>33.000000</td>\n",
       "      <td>232.000000</td>\n",
       "      <td>50.000000</td>\n",
       "      <td>...</td>\n",
       "      <td>4.000000</td>\n",
       "      <td>8.000000</td>\n",
       "      <td>7.000000</td>\n",
       "      <td>0.000000</td>\n",
       "      <td>0.000000</td>\n",
       "      <td>0.000000</td>\n",
       "      <td>0.000000</td>\n",
       "      <td>0.000000</td>\n",
       "      <td>0.000000</td>\n",
       "      <td>0.000000</td>\n",
       "    </tr>\n",
       "    <tr>\n",
       "      <th>max</th>\n",
       "      <td>11191.000000</td>\n",
       "      <td>1996.000000</td>\n",
       "      <td>666666.000000</td>\n",
       "      <td>2.000000</td>\n",
       "      <td>2.000000</td>\n",
       "      <td>99.000000</td>\n",
       "      <td>1493.000000</td>\n",
       "      <td>199.000000</td>\n",
       "      <td>1725.000000</td>\n",
       "      <td>259.000000</td>\n",
       "      <td>...</td>\n",
       "      <td>28.000000</td>\n",
       "      <td>13.000000</td>\n",
       "      <td>20.000000</td>\n",
       "      <td>1.000000</td>\n",
       "      <td>1.000000</td>\n",
       "      <td>1.000000</td>\n",
       "      <td>1.000000</td>\n",
       "      <td>1.000000</td>\n",
       "      <td>1.000000</td>\n",
       "      <td>1.000000</td>\n",
       "    </tr>\n",
       "  </tbody>\n",
       "</table>\n",
       "<p>8 rows × 24 columns</p>\n",
       "</div>"
      ],
      "text/plain": [
       "                 ID   Year_Birth         Income      Kidhome     Teenhome  \\\n",
       "count   2240.000000  2240.000000    2216.000000  2240.000000  2240.000000   \n",
       "mean    5592.159821  1968.805804   52247.251354     0.444196     0.506250   \n",
       "std     3246.662198    11.984069   25173.076661     0.538398     0.544538   \n",
       "min        0.000000  1893.000000    1730.000000     0.000000     0.000000   \n",
       "25%     2828.250000  1959.000000   35303.000000     0.000000     0.000000   \n",
       "50%     5458.500000  1970.000000   51381.500000     0.000000     0.000000   \n",
       "75%     8427.750000  1977.000000   68522.000000     1.000000     1.000000   \n",
       "max    11191.000000  1996.000000  666666.000000     2.000000     2.000000   \n",
       "\n",
       "           Recency     MntWines    MntFruits  MntMeatProducts  \\\n",
       "count  2240.000000  2240.000000  2240.000000      2240.000000   \n",
       "mean     49.109375   303.935714    26.302232       166.950000   \n",
       "std      28.962453   336.597393    39.773434       225.715373   \n",
       "min       0.000000     0.000000     0.000000         0.000000   \n",
       "25%      24.000000    23.750000     1.000000        16.000000   \n",
       "50%      49.000000   173.500000     8.000000        67.000000   \n",
       "75%      74.000000   504.250000    33.000000       232.000000   \n",
       "max      99.000000  1493.000000   199.000000      1725.000000   \n",
       "\n",
       "       MntFishProducts  ...  NumCatalogPurchases  NumStorePurchases  \\\n",
       "count      2240.000000  ...          2240.000000        2240.000000   \n",
       "mean         37.525446  ...             2.662054           5.790179   \n",
       "std          54.628979  ...             2.923101           3.250958   \n",
       "min           0.000000  ...             0.000000           0.000000   \n",
       "25%           3.000000  ...             0.000000           3.000000   \n",
       "50%          12.000000  ...             2.000000           5.000000   \n",
       "75%          50.000000  ...             4.000000           8.000000   \n",
       "max         259.000000  ...            28.000000          13.000000   \n",
       "\n",
       "       NumWebVisitsMonth  AcceptedCmp3  AcceptedCmp4  AcceptedCmp5  \\\n",
       "count        2240.000000   2240.000000   2240.000000   2240.000000   \n",
       "mean            5.316518      0.072768      0.074554      0.072768   \n",
       "std             2.426645      0.259813      0.262728      0.259813   \n",
       "min             0.000000      0.000000      0.000000      0.000000   \n",
       "25%             3.000000      0.000000      0.000000      0.000000   \n",
       "50%             6.000000      0.000000      0.000000      0.000000   \n",
       "75%             7.000000      0.000000      0.000000      0.000000   \n",
       "max            20.000000      1.000000      1.000000      1.000000   \n",
       "\n",
       "       AcceptedCmp1  AcceptedCmp2     Response     Complain  \n",
       "count   2240.000000   2240.000000  2240.000000  2240.000000  \n",
       "mean       0.064286      0.013393     0.149107     0.009375  \n",
       "std        0.245316      0.114976     0.356274     0.096391  \n",
       "min        0.000000      0.000000     0.000000     0.000000  \n",
       "25%        0.000000      0.000000     0.000000     0.000000  \n",
       "50%        0.000000      0.000000     0.000000     0.000000  \n",
       "75%        0.000000      0.000000     0.000000     0.000000  \n",
       "max        1.000000      1.000000     1.000000     1.000000  \n",
       "\n",
       "[8 rows x 24 columns]"
      ]
     },
     "execution_count": 30,
     "metadata": {},
     "output_type": "execute_result"
    }
   ],
   "source": [
    "data.describe()"
   ]
  },
  {
   "cell_type": "code",
   "execution_count": 36,
   "metadata": {},
   "outputs": [
    {
     "data": {
      "text/plain": [
       "<AxesSubplot:>"
      ]
     },
     "execution_count": 36,
     "metadata": {},
     "output_type": "execute_result"
    },
    {
     "data": {
      "image/png": "[encoded data removed]",
      "text/plain": [
       "<Figure size 216x288 with 1 Axes>"
      ]
     },
     "metadata": {
      "needs_background": "light"
     },
     "output_type": "display_data"
    }
   ],
   "source": [
    "data['Income'].plot(kind='box',figsize = (3,4),patch_artist=True)"
   ]
  },
  {
   "cell_type": "code",
   "execution_count": 34,
   "metadata": {},
   "outputs": [
    {
     "data": {
      "text/plain": [
       "51381.5"
      ]
     },
     "execution_count": 34,
     "metadata": {},
     "output_type": "execute_result"
    }
   ],
   "source": [
    "data['Income'].median()"
   ]
  },
  {
   "cell_type": "code",
   "execution_count": 41,
   "metadata": {},
   "outputs": [],
   "source": [
    "# use median value to instead null value, avoiding skewing\n",
    "data['Income'] = data['Income'].fillna(data['Income'].median())"
   ]
  },
  {
   "cell_type": "code",
   "execution_count": 42,
   "metadata": {},
   "outputs": [
    {
     "data": {
      "image/png": "[encoded data removed]",
      "text/plain": [
       "<Figure size 864x1008 with 16 Axes>"
      ]
     },
     "metadata": {
      "needs_background": "light"
     },
     "output_type": "display_data"
    }
   ],
   "source": [
    "# finding outliers (box plot)\n",
    "data_to_plot = data.drop(columns=['ID', 'AcceptedCmp1', 'AcceptedCmp2', 'AcceptedCmp3', 'AcceptedCmp4', 'AcceptedCmp5', 'Response', 'Complain']).select_dtypes(include=np.number)\n",
    "data_to_plot.plot(subplots = True, layout=(4,4),kind='box',figsize=(12,14),patch_artist=True)\n",
    "plt.subplots_adjust(wspace=0.5)\n"
   ]
  },
  {
   "cell_type": "markdown",
   "metadata": {},
   "source": [
    "Most attributes have outliers, but only 'Year_Birth' has entry error: Year_Birth < 1900.\n",
    "Drop rows where Year_Birth < 1900"
   ]
  },
  {
   "cell_type": "code",
   "execution_count": 43,
   "metadata": {},
   "outputs": [
    {
     "data": {
      "text/plain": [
       "<AxesSubplot:>"
      ]
     },
     "execution_count": 43,
     "metadata": {},
     "output_type": "execute_result"
    },
    {
     "data": {
      "image/png": "[encoded data removed]",
      "text/plain": [
       "<Figure size 216x288 with 1 Axes>"
      ]
     },
     "metadata": {
      "needs_background": "light"
     },
     "output_type": "display_data"
    }
   ],
   "source": [
    "data = data[data['Year_Birth'] > 1900].reset_index(drop=True)\n",
    "plt.figure(figsize=(3,4))\n",
    "data['Year_Birth'].plot(kind='box',patch_artist=True)"
   ]
  },
  {
   "cell_type": "markdown",
   "metadata": {},
   "source": [
    "change Dt_Customer to datetime"
   ]
  },
  {
   "cell_type": "code",
   "execution_count": 44,
   "metadata": {},
   "outputs": [],
   "source": [
    "data['Dt_Customer'] = pd.to_datetime(data['Dt_Customer'])"
   ]
  },
  {
   "cell_type": "code",
   "execution_count": 45,
   "metadata": {},
   "outputs": [
    {
     "data": {
      "text/html": [
       "<div>\n",
       "<style scoped>\n",
       "    .dataframe tbody tr th:only-of-type {\n",
       "        vertical-align: middle;\n",
       "    }\n",
       "\n",
       "    .dataframe tbody tr th {\n",
       "        vertical-align: top;\n",
       "    }\n",
       "\n",
       "    .dataframe thead th {\n",
       "        text-align: right;\n",
       "    }\n",
       "</style>\n",
       "<table border=\"1\" class=\"dataframe\">\n",
       "  <thead>\n",
       "    <tr style=\"text-align: right;\">\n",
       "      <th></th>\n",
       "      <th>ID</th>\n",
       "      <th>Year_Birth</th>\n",
       "      <th>Education</th>\n",
       "      <th>Marital_Status</th>\n",
       "      <th>Income</th>\n",
       "      <th>Kidhome</th>\n",
       "      <th>Teenhome</th>\n",
       "      <th>Dt_Customer</th>\n",
       "      <th>Recency</th>\n",
       "      <th>MntWines</th>\n",
       "      <th>...</th>\n",
       "      <th>NumStorePurchases</th>\n",
       "      <th>NumWebVisitsMonth</th>\n",
       "      <th>AcceptedCmp3</th>\n",
       "      <th>AcceptedCmp4</th>\n",
       "      <th>AcceptedCmp5</th>\n",
       "      <th>AcceptedCmp1</th>\n",
       "      <th>AcceptedCmp2</th>\n",
       "      <th>Response</th>\n",
       "      <th>Complain</th>\n",
       "      <th>Country</th>\n",
       "    </tr>\n",
       "  </thead>\n",
       "  <tbody>\n",
       "    <tr>\n",
       "      <th>0</th>\n",
       "      <td>1826</td>\n",
       "      <td>1970</td>\n",
       "      <td>Graduation</td>\n",
       "      <td>Divorced</td>\n",
       "      <td>84835.0</td>\n",
       "      <td>0</td>\n",
       "      <td>0</td>\n",
       "      <td>2014-06-16</td>\n",
       "      <td>0</td>\n",
       "      <td>189</td>\n",
       "      <td>...</td>\n",
       "      <td>6</td>\n",
       "      <td>1</td>\n",
       "      <td>0</td>\n",
       "      <td>0</td>\n",
       "      <td>0</td>\n",
       "      <td>0</td>\n",
       "      <td>0</td>\n",
       "      <td>1</td>\n",
       "      <td>0</td>\n",
       "      <td>SP</td>\n",
       "    </tr>\n",
       "    <tr>\n",
       "      <th>1</th>\n",
       "      <td>1</td>\n",
       "      <td>1961</td>\n",
       "      <td>Graduation</td>\n",
       "      <td>Single</td>\n",
       "      <td>57091.0</td>\n",
       "      <td>0</td>\n",
       "      <td>0</td>\n",
       "      <td>2014-06-15</td>\n",
       "      <td>0</td>\n",
       "      <td>464</td>\n",
       "      <td>...</td>\n",
       "      <td>7</td>\n",
       "      <td>5</td>\n",
       "      <td>0</td>\n",
       "      <td>0</td>\n",
       "      <td>0</td>\n",
       "      <td>0</td>\n",
       "      <td>1</td>\n",
       "      <td>1</td>\n",
       "      <td>0</td>\n",
       "      <td>CA</td>\n",
       "    </tr>\n",
       "    <tr>\n",
       "      <th>2</th>\n",
       "      <td>10476</td>\n",
       "      <td>1958</td>\n",
       "      <td>Graduation</td>\n",
       "      <td>Married</td>\n",
       "      <td>67267.0</td>\n",
       "      <td>0</td>\n",
       "      <td>1</td>\n",
       "      <td>2014-05-13</td>\n",
       "      <td>0</td>\n",
       "      <td>134</td>\n",
       "      <td>...</td>\n",
       "      <td>5</td>\n",
       "      <td>2</td>\n",
       "      <td>0</td>\n",
       "      <td>0</td>\n",
       "      <td>0</td>\n",
       "      <td>0</td>\n",
       "      <td>0</td>\n",
       "      <td>0</td>\n",
       "      <td>0</td>\n",
       "      <td>US</td>\n",
       "    </tr>\n",
       "    <tr>\n",
       "      <th>3</th>\n",
       "      <td>1386</td>\n",
       "      <td>1967</td>\n",
       "      <td>Graduation</td>\n",
       "      <td>Together</td>\n",
       "      <td>32474.0</td>\n",
       "      <td>1</td>\n",
       "      <td>1</td>\n",
       "      <td>2014-05-11</td>\n",
       "      <td>0</td>\n",
       "      <td>10</td>\n",
       "      <td>...</td>\n",
       "      <td>2</td>\n",
       "      <td>7</td>\n",
       "      <td>0</td>\n",
       "      <td>0</td>\n",
       "      <td>0</td>\n",
       "      <td>0</td>\n",
       "      <td>0</td>\n",
       "      <td>0</td>\n",
       "      <td>0</td>\n",
       "      <td>AUS</td>\n",
       "    </tr>\n",
       "    <tr>\n",
       "      <th>4</th>\n",
       "      <td>5371</td>\n",
       "      <td>1989</td>\n",
       "      <td>Graduation</td>\n",
       "      <td>Single</td>\n",
       "      <td>21474.0</td>\n",
       "      <td>1</td>\n",
       "      <td>0</td>\n",
       "      <td>2014-04-08</td>\n",
       "      <td>0</td>\n",
       "      <td>6</td>\n",
       "      <td>...</td>\n",
       "      <td>2</td>\n",
       "      <td>7</td>\n",
       "      <td>1</td>\n",
       "      <td>0</td>\n",
       "      <td>0</td>\n",
       "      <td>0</td>\n",
       "      <td>0</td>\n",
       "      <td>1</td>\n",
       "      <td>0</td>\n",
       "      <td>SP</td>\n",
       "    </tr>\n",
       "  </tbody>\n",
       "</table>\n",
       "<p>5 rows × 28 columns</p>\n",
       "</div>"
      ],
      "text/plain": [
       "      ID  Year_Birth   Education Marital_Status   Income  Kidhome  Teenhome  \\\n",
       "0   1826        1970  Graduation       Divorced  84835.0        0         0   \n",
       "1      1        1961  Graduation         Single  57091.0        0         0   \n",
       "2  10476        1958  Graduation        Married  67267.0        0         1   \n",
       "3   1386        1967  Graduation       Together  32474.0        1         1   \n",
       "4   5371        1989  Graduation         Single  21474.0        1         0   \n",
       "\n",
       "  Dt_Customer  Recency  MntWines  ...  NumStorePurchases  NumWebVisitsMonth  \\\n",
       "0  2014-06-16        0       189  ...                  6                  1   \n",
       "1  2014-06-15        0       464  ...                  7                  5   \n",
       "2  2014-05-13        0       134  ...                  5                  2   \n",
       "3  2014-05-11        0        10  ...                  2                  7   \n",
       "4  2014-04-08        0         6  ...                  2                  7   \n",
       "\n",
       "   AcceptedCmp3  AcceptedCmp4  AcceptedCmp5  AcceptedCmp1  AcceptedCmp2  \\\n",
       "0             0             0             0             0             0   \n",
       "1             0             0             0             0             1   \n",
       "2             0             0             0             0             0   \n",
       "3             0             0             0             0             0   \n",
       "4             1             0             0             0             0   \n",
       "\n",
       "   Response  Complain  Country  \n",
       "0         1         0       SP  \n",
       "1         1         0       CA  \n",
       "2         0         0       US  \n",
       "3         0         0      AUS  \n",
       "4         1         0       SP  \n",
       "\n",
       "[5 rows x 28 columns]"
      ]
     },
     "execution_count": 45,
     "metadata": {},
     "output_type": "execute_result"
    }
   ],
   "source": [
    "data.head()"
   ]
  },
  {
   "cell_type": "code",
   "execution_count": 46,
   "metadata": {},
   "outputs": [],
   "source": [
    "data['Dependents'] = data['Kidhome']+data['Teenhome']\n",
    "# total of dependents can be engineered from sum of kidhome and teenhome"
   ]
  },
  {
   "cell_type": "code",
   "execution_count": 47,
   "metadata": {},
   "outputs": [],
   "source": [
    "data['Year_Customer'] = pd.DatetimeIndex(data['Dt_Customer']).year\n",
    "# year of being a customer can be engineered from dt_customer"
   ]
  },
  {
   "cell_type": "code",
   "execution_count": 49,
   "metadata": {},
   "outputs": [],
   "source": [
    "mnt_cols = [col for col in data.columns if 'Mnt' in col]\n",
    "data['TotalMnt'] = data[mnt_cols].sum(axis=1)\n",
    "# total amount spent can be engineered from coloums containing mnt"
   ]
  },
  {
   "cell_type": "code",
   "execution_count": 50,
   "metadata": {},
   "outputs": [],
   "source": [
    "purchase_cols = [col for col in data.columns if 'Purchases' in col]\n",
    "data['TotalPurchases'] = data[purchase_cols].sum(axis=1)\n",
    "# total amount purchased can be engineered from coloums containing mnt"
   ]
  },
  {
   "cell_type": "code",
   "execution_count": 51,
   "metadata": {},
   "outputs": [],
   "source": [
    "campaigns_cols = [col for col in data.columns if 'Cmp' in col] + ['Response']\n",
    "data['TotalCampaignAcc'] = data[campaigns_cols].sum(axis=1)\n",
    "# total campaigns accepted"
   ]
  },
  {
   "cell_type": "code",
   "execution_count": 55,
   "metadata": {},
   "outputs": [
    {
     "data": {
      "text/html": [
       "<div>\n",
       "<style scoped>\n",
       "    .dataframe tbody tr th:only-of-type {\n",
       "        vertical-align: middle;\n",
       "    }\n",
       "\n",
       "    .dataframe tbody tr th {\n",
       "        vertical-align: top;\n",
       "    }\n",
       "\n",
       "    .dataframe thead th {\n",
       "        text-align: right;\n",
       "    }\n",
       "</style>\n",
       "<table border=\"1\" class=\"dataframe\">\n",
       "  <thead>\n",
       "    <tr style=\"text-align: right;\">\n",
       "      <th></th>\n",
       "      <th>ID</th>\n",
       "      <th>Dependents</th>\n",
       "      <th>Year_Customer</th>\n",
       "      <th>TotalMnt</th>\n",
       "      <th>TotalPurchases</th>\n",
       "      <th>TotalCampaignAcc</th>\n",
       "    </tr>\n",
       "  </thead>\n",
       "  <tbody>\n",
       "    <tr>\n",
       "      <th>0</th>\n",
       "      <td>1826</td>\n",
       "      <td>0</td>\n",
       "      <td>2014</td>\n",
       "      <td>1190</td>\n",
       "      <td>15</td>\n",
       "      <td>1</td>\n",
       "    </tr>\n",
       "    <tr>\n",
       "      <th>1</th>\n",
       "      <td>1</td>\n",
       "      <td>0</td>\n",
       "      <td>2014</td>\n",
       "      <td>577</td>\n",
       "      <td>18</td>\n",
       "      <td>2</td>\n",
       "    </tr>\n",
       "    <tr>\n",
       "      <th>2</th>\n",
       "      <td>10476</td>\n",
       "      <td>1</td>\n",
       "      <td>2014</td>\n",
       "      <td>251</td>\n",
       "      <td>11</td>\n",
       "      <td>0</td>\n",
       "    </tr>\n",
       "    <tr>\n",
       "      <th>3</th>\n",
       "      <td>1386</td>\n",
       "      <td>2</td>\n",
       "      <td>2014</td>\n",
       "      <td>11</td>\n",
       "      <td>4</td>\n",
       "      <td>0</td>\n",
       "    </tr>\n",
       "    <tr>\n",
       "      <th>4</th>\n",
       "      <td>5371</td>\n",
       "      <td>1</td>\n",
       "      <td>2014</td>\n",
       "      <td>91</td>\n",
       "      <td>8</td>\n",
       "      <td>2</td>\n",
       "    </tr>\n",
       "  </tbody>\n",
       "</table>\n",
       "</div>"
      ],
      "text/plain": [
       "      ID  Dependents  Year_Customer  TotalMnt  TotalPurchases  \\\n",
       "0   1826           0           2014      1190              15   \n",
       "1      1           0           2014       577              18   \n",
       "2  10476           1           2014       251              11   \n",
       "3   1386           2           2014        11               4   \n",
       "4   5371           1           2014        91               8   \n",
       "\n",
       "   TotalCampaignAcc  \n",
       "0                 1  \n",
       "1                 2  \n",
       "2                 0  \n",
       "3                 0  \n",
       "4                 2  "
      ]
     },
     "execution_count": 55,
     "metadata": {},
     "output_type": "execute_result"
    }
   ],
   "source": [
    "engineered_cols = ['ID','Dependents','Year_Customer','TotalMnt','TotalPurchases','TotalCampaignAcc']\n",
    "data[engineered_cols].head()"
   ]
  },
  {
   "cell_type": "code",
   "execution_count": 56,
   "metadata": {},
   "outputs": [
    {
     "data": {
      "text/plain": [
       "<seaborn.matrix.ClusterGrid at 0x7fa125219df0>"
      ]
     },
     "execution_count": 56,
     "metadata": {},
     "output_type": "execute_result"
    },
    {
     "data": {
      "image/png": "[encoded data removed]",
      "text/plain": [
       "<Figure size 720x720 with 4 Axes>"
      ]
     },
     "metadata": {
      "needs_background": "light"
     },
     "output_type": "display_data"
    }
   ],
   "source": [
    "# feature correlations\n",
    "corrs = data.drop(columns='ID').select_dtypes(include=np.number).corr(method='kendall')\n",
    "sns.clustermap(corrs, cbar_pos=(-0.05,0.8,0.05,0.18),cmap='coolwarm',center = 0)\n"
   ]
  },
  {
   "cell_type": "markdown",
   "metadata": {},
   "source": [
    "Patterns:\n",
    "1. High Income Cluster:\n",
    "   Amount Spent & Number of Purchase positively related to Income.\n",
    "   Purchase through Web/Store/Catalog positively related to Income.\n",
    "2. Have Kids&Teens Cluster:\n",
    "   Amount Spent & Number of Purchase negatively related to Dependents.\n",
    "   Purchasing Deals positively related to Dependents, negatively related to Income\n",
    "3. Advertising Campaign Cluster:\n",
    "   Acceptance of advertising campaigns is strongly related to each other.\n",
    "   Acceptance of advertising campaigns is weakly positively related to Income, weakly negatively related to Have Kids.\n",
    "Anomalies:\n",
    "1. Number of website visits last month does not relate with an increasing number  of web purchases. \n",
    "2. Instead, Number of website visits last month positively related to number of deals purchased, meaning that deals are an effective way of stimulating purchases on website."
   ]
  },
  {
   "cell_type": "code",
   "execution_count": 57,
   "metadata": {},
   "outputs": [
    {
     "data": {
      "text/plain": [
       "<seaborn.axisgrid.FacetGrid at 0x7fa130b6fb20>"
      ]
     },
     "execution_count": 57,
     "metadata": {},
     "output_type": "execute_result"
    },
    {
     "data": {
      "image/png": "[encoded data removed]",
      "text/plain": [
       "<Figure size 360x360 with 1 Axes>"
      ]
     },
     "metadata": {
      "needs_background": "light"
     },
     "output_type": "display_data"
    }
   ],
   "source": [
    "# Plot positive effect of high income on spending, keep income < 200000 to remove ourlier\n",
    "sns.lmplot(x='Income',y='TotalMnt',data=data[data['Income']<200000])"
   ]
  },
  {
   "cell_type": "code",
   "execution_count": 59,
   "metadata": {},
   "outputs": [
    {
     "data": {
      "text/plain": [
       "<AxesSubplot:xlabel='Dependents', ylabel='TotalMnt'>"
      ]
     },
     "execution_count": 59,
     "metadata": {},
     "output_type": "execute_result"
    },
    {
     "data": {
      "image/png": "[encoded data removed]",
      "text/plain": [
       "<Figure size 288x288 with 1 Axes>"
      ]
     },
     "metadata": {
      "needs_background": "light"
     },
     "output_type": "display_data"
    }
   ],
   "source": [
    "# plot negative effect of having kids on spending\n",
    "plt.figure(figsize=(4,4))\n",
    "sns.boxplot(x='Dependents',y='TotalMnt',data=data)"
   ]
  },
  {
   "cell_type": "code",
   "execution_count": 60,
   "metadata": {},
   "outputs": [
    {
     "data": {
      "text/plain": [
       "<AxesSubplot:xlabel='Dependents', ylabel='NumDealsPurchases'>"
      ]
     },
     "execution_count": 60,
     "metadata": {},
     "output_type": "execute_result"
    },
    {
     "data": {
      "image/png": "[encoded data removed]",
      "text/plain": [
       "<Figure size 288x288 with 1 Axes>"
      ]
     },
     "metadata": {
      "needs_background": "light"
     },
     "output_type": "display_data"
    }
   ],
   "source": [
    "# plot positive effect of having kids on number of deals purchased\n",
    "plt.figure(figsize=(4,4))\n",
    "sns.boxplot(x='Dependents',y='NumDealsPurchases',data=data)"
   ]
  },
  {
   "cell_type": "code",
   "execution_count": 62,
   "metadata": {},
   "outputs": [
    {
     "data": {
      "text/plain": [
       "<AxesSubplot:xlabel='TotalCampaignAcc', ylabel='Income'>"
      ]
     },
     "execution_count": 62,
     "metadata": {},
     "output_type": "execute_result"
    },
    {
     "data": {
      "image/png": "[encoded data removed]",
      "text/plain": [
       "<Figure size 396x288 with 1 Axes>"
      ]
     },
     "metadata": {
      "needs_background": "light"
     },
     "output_type": "display_data"
    }
   ],
   "source": [
    "# plot positive effect of income, negative effect of having kids on advertising campaign acceptance\n",
    "plt.figure(figsize=(5.5,4))\n",
    "sns.boxplot(x='TotalCampaignAcc',y='Income',data = data[data['Income']<200000])"
   ]
  },
  {
   "cell_type": "code",
   "execution_count": 63,
   "metadata": {},
   "outputs": [
    {
     "data": {
      "text/plain": [
       "<AxesSubplot:xlabel='TotalCampaignAcc', ylabel='Dependents'>"
      ]
     },
     "execution_count": 63,
     "metadata": {},
     "output_type": "execute_result"
    },
    {
     "data": {
      "image/png": "[encoded data removed]",
      "text/plain": [
       "<Figure size 396x288 with 1 Axes>"
      ]
     },
     "metadata": {
      "needs_background": "light"
     },
     "output_type": "display_data"
    }
   ],
   "source": [
    "plt.figure(figsize=(5.5,4))\n",
    "sns.boxplot(x='TotalCampaignAcc',y='Dependents',data = data)"
   ]
  },
  {
   "cell_type": "markdown",
   "metadata": {},
   "source": [
    "Investigate anomaly:\n",
    "1. Number of website visits last month is not positively related to number of purchases through web.\n",
    "2. Instead, it's positively related to number of deals purchased, suggesting deals could be an effective way to stimulate purchase on website."
   ]
  },
  {
   "cell_type": "code",
   "execution_count": 64,
   "metadata": {},
   "outputs": [
    {
     "data": {
      "text/plain": [
       "<seaborn.axisgrid.FacetGrid at 0x7fa0f11692e0>"
      ]
     },
     "execution_count": 64,
     "metadata": {},
     "output_type": "execute_result"
    },
    {
     "data": {
      "image/png": "[encoded data removed]",
      "text/plain": [
       "<Figure size 360x360 with 1 Axes>"
      ]
     },
     "metadata": {
      "needs_background": "light"
     },
     "output_type": "display_data"
    }
   ],
   "source": [
    "sns.lmplot(x='NumWebVisitsMonth',y='NumWebPurchases',data=data)"
   ]
  },
  {
   "cell_type": "code",
   "execution_count": 65,
   "metadata": {},
   "outputs": [
    {
     "data": {
      "text/plain": [
       "<seaborn.axisgrid.FacetGrid at 0x7fa12548c430>"
      ]
     },
     "execution_count": 65,
     "metadata": {},
     "output_type": "execute_result"
    },
    {
     "data": {
      "image/png": "[encoded data removed]",
      "text/plain": [
       "<Figure size 360x360 with 1 Axes>"
      ]
     },
     "metadata": {
      "needs_background": "light"
     },
     "output_type": "display_data"
    }
   ],
   "source": [
    "sns.lmplot(x='NumWebVisitsMonth',y='NumDealsPurchases',data=data)"
   ]
  },
  {
   "cell_type": "markdown",
   "metadata": {},
   "source": [
    "Statistical Analysis\n",
    "\n",
    "Run statistical tests in form of regressions to answer questions & propose data-driven action recommendations to CMO. Interpret results with non-statistical jargons so that CMO can easily understand findings."
   ]
  },
  {
   "cell_type": "markdown",
   "metadata": {},
   "source": [
    "1. Which factors are significantly related to number of store purchases?\n",
    "   \n",
    "   Using linear regression model with NumStorePurchases as dependent variable.\n",
    "   \n",
    "   Using machine learning explainability techniques to get insights about which features predict number of store purchases."
   ]
  },
  {
   "cell_type": "code",
   "execution_count": 66,
   "metadata": {},
   "outputs": [
    {
     "data": {
      "text/plain": [
       "Text(0, 0.5, 'count')"
      ]
     },
     "execution_count": 66,
     "metadata": {},
     "output_type": "execute_result"
    },
    {
     "data": {
      "image/png": "[encoded data removed]",
      "text/plain": [
       "<Figure size 576x216 with 1 Axes>"
      ]
     },
     "metadata": {
      "needs_background": "light"
     },
     "output_type": "display_data"
    }
   ],
   "source": [
    "plt.figure(figsize=(8,3))\n",
    "sns.distplot(data['NumStorePurchases'], kde=False, hist= True, bins=12)\n",
    "plt.title('NumStorePurchases distribution', size = 16)\n",
    "plt.ylabel('count')"
   ]
  },
  {
   "cell_type": "code",
   "execution_count": 67,
   "metadata": {},
   "outputs": [],
   "source": [
    "# drop uninformative features: ID, Dt_Customer, replacing using Year_Customer\n",
    "data.drop(columns=['ID','Dt_Customer'],inplace=True)"
   ]
  },
  {
   "cell_type": "code",
   "execution_count": 68,
   "metadata": {},
   "outputs": [
    {
     "name": "stdout",
     "output_type": "stream",
     "text": [
      "Number of unique values per categorical feature:\n",
      " Education         5\n",
      "Marital_Status    8\n",
      "Country           8\n",
      "dtype: int64\n"
     ]
    }
   ],
   "source": [
    "# one-hot encoding of categorical features\n",
    "from sklearn.preprocessing import OneHotEncoder\n",
    "\n",
    "# get categorical features and review number of unique values\n",
    "cat = data.select_dtypes(exclude=np.number)\n",
    "print(\"Number of unique values per categorical feature:\\n\", cat.nunique())"
   ]
  },
  {
   "cell_type": "code",
   "execution_count": 69,
   "metadata": {},
   "outputs": [],
   "source": [
    "# use one hot encoder\n",
    "enc = OneHotEncoder(sparse=False).fit(cat)\n",
    "cat_encoded = pd.DataFrame(enc.transform(cat))\n",
    "cat_encoded.columns = enc.get_feature_names(cat.columns)"
   ]
  },
  {
   "cell_type": "code",
   "execution_count": 73,
   "metadata": {},
   "outputs": [
    {
     "data": {
      "text/html": [
       "<div>\n",
       "<style scoped>\n",
       "    .dataframe tbody tr th:only-of-type {\n",
       "        vertical-align: middle;\n",
       "    }\n",
       "\n",
       "    .dataframe tbody tr th {\n",
       "        vertical-align: top;\n",
       "    }\n",
       "\n",
       "    .dataframe thead th {\n",
       "        text-align: right;\n",
       "    }\n",
       "</style>\n",
       "<table border=\"1\" class=\"dataframe\">\n",
       "  <thead>\n",
       "    <tr style=\"text-align: right;\">\n",
       "      <th></th>\n",
       "      <th>Education_2n Cycle</th>\n",
       "      <th>Education_Basic</th>\n",
       "      <th>Education_Graduation</th>\n",
       "      <th>Education_Master</th>\n",
       "      <th>Education_PhD</th>\n",
       "      <th>Marital_Status_Absurd</th>\n",
       "      <th>Marital_Status_Alone</th>\n",
       "      <th>Marital_Status_Divorced</th>\n",
       "      <th>Marital_Status_Married</th>\n",
       "      <th>Marital_Status_Single</th>\n",
       "      <th>...</th>\n",
       "      <th>AcceptedCmp5</th>\n",
       "      <th>AcceptedCmp1</th>\n",
       "      <th>AcceptedCmp2</th>\n",
       "      <th>Response</th>\n",
       "      <th>Complain</th>\n",
       "      <th>Dependents</th>\n",
       "      <th>Year_Customer</th>\n",
       "      <th>TotalMnt</th>\n",
       "      <th>TotalPurchases</th>\n",
       "      <th>TotalCampaignAcc</th>\n",
       "    </tr>\n",
       "  </thead>\n",
       "  <tbody>\n",
       "    <tr>\n",
       "      <th>0</th>\n",
       "      <td>0.0</td>\n",
       "      <td>0.0</td>\n",
       "      <td>1.0</td>\n",
       "      <td>0.0</td>\n",
       "      <td>0.0</td>\n",
       "      <td>0.0</td>\n",
       "      <td>0.0</td>\n",
       "      <td>1.0</td>\n",
       "      <td>0.0</td>\n",
       "      <td>0.0</td>\n",
       "      <td>...</td>\n",
       "      <td>0</td>\n",
       "      <td>0</td>\n",
       "      <td>0</td>\n",
       "      <td>1</td>\n",
       "      <td>0</td>\n",
       "      <td>0</td>\n",
       "      <td>2014</td>\n",
       "      <td>1190</td>\n",
       "      <td>15</td>\n",
       "      <td>1</td>\n",
       "    </tr>\n",
       "    <tr>\n",
       "      <th>1</th>\n",
       "      <td>0.0</td>\n",
       "      <td>0.0</td>\n",
       "      <td>1.0</td>\n",
       "      <td>0.0</td>\n",
       "      <td>0.0</td>\n",
       "      <td>0.0</td>\n",
       "      <td>0.0</td>\n",
       "      <td>0.0</td>\n",
       "      <td>0.0</td>\n",
       "      <td>1.0</td>\n",
       "      <td>...</td>\n",
       "      <td>0</td>\n",
       "      <td>0</td>\n",
       "      <td>1</td>\n",
       "      <td>1</td>\n",
       "      <td>0</td>\n",
       "      <td>0</td>\n",
       "      <td>2014</td>\n",
       "      <td>577</td>\n",
       "      <td>18</td>\n",
       "      <td>2</td>\n",
       "    </tr>\n",
       "    <tr>\n",
       "      <th>2</th>\n",
       "      <td>0.0</td>\n",
       "      <td>0.0</td>\n",
       "      <td>1.0</td>\n",
       "      <td>0.0</td>\n",
       "      <td>0.0</td>\n",
       "      <td>0.0</td>\n",
       "      <td>0.0</td>\n",
       "      <td>0.0</td>\n",
       "      <td>1.0</td>\n",
       "      <td>0.0</td>\n",
       "      <td>...</td>\n",
       "      <td>0</td>\n",
       "      <td>0</td>\n",
       "      <td>0</td>\n",
       "      <td>0</td>\n",
       "      <td>0</td>\n",
       "      <td>1</td>\n",
       "      <td>2014</td>\n",
       "      <td>251</td>\n",
       "      <td>11</td>\n",
       "      <td>0</td>\n",
       "    </tr>\n",
       "    <tr>\n",
       "      <th>3</th>\n",
       "      <td>0.0</td>\n",
       "      <td>0.0</td>\n",
       "      <td>1.0</td>\n",
       "      <td>0.0</td>\n",
       "      <td>0.0</td>\n",
       "      <td>0.0</td>\n",
       "      <td>0.0</td>\n",
       "      <td>0.0</td>\n",
       "      <td>0.0</td>\n",
       "      <td>0.0</td>\n",
       "      <td>...</td>\n",
       "      <td>0</td>\n",
       "      <td>0</td>\n",
       "      <td>0</td>\n",
       "      <td>0</td>\n",
       "      <td>0</td>\n",
       "      <td>2</td>\n",
       "      <td>2014</td>\n",
       "      <td>11</td>\n",
       "      <td>4</td>\n",
       "      <td>0</td>\n",
       "    </tr>\n",
       "    <tr>\n",
       "      <th>4</th>\n",
       "      <td>0.0</td>\n",
       "      <td>0.0</td>\n",
       "      <td>1.0</td>\n",
       "      <td>0.0</td>\n",
       "      <td>0.0</td>\n",
       "      <td>0.0</td>\n",
       "      <td>0.0</td>\n",
       "      <td>0.0</td>\n",
       "      <td>0.0</td>\n",
       "      <td>1.0</td>\n",
       "      <td>...</td>\n",
       "      <td>0</td>\n",
       "      <td>0</td>\n",
       "      <td>0</td>\n",
       "      <td>1</td>\n",
       "      <td>0</td>\n",
       "      <td>1</td>\n",
       "      <td>2014</td>\n",
       "      <td>91</td>\n",
       "      <td>8</td>\n",
       "      <td>2</td>\n",
       "    </tr>\n",
       "  </tbody>\n",
       "</table>\n",
       "<p>5 rows × 49 columns</p>\n",
       "</div>"
      ],
      "text/plain": [
       "   Education_2n Cycle  Education_Basic  Education_Graduation  \\\n",
       "0                 0.0              0.0                   1.0   \n",
       "1                 0.0              0.0                   1.0   \n",
       "2                 0.0              0.0                   1.0   \n",
       "3                 0.0              0.0                   1.0   \n",
       "4                 0.0              0.0                   1.0   \n",
       "\n",
       "   Education_Master  Education_PhD  Marital_Status_Absurd  \\\n",
       "0               0.0            0.0                    0.0   \n",
       "1               0.0            0.0                    0.0   \n",
       "2               0.0            0.0                    0.0   \n",
       "3               0.0            0.0                    0.0   \n",
       "4               0.0            0.0                    0.0   \n",
       "\n",
       "   Marital_Status_Alone  Marital_Status_Divorced  Marital_Status_Married  \\\n",
       "0                   0.0                      1.0                     0.0   \n",
       "1                   0.0                      0.0                     0.0   \n",
       "2                   0.0                      0.0                     1.0   \n",
       "3                   0.0                      0.0                     0.0   \n",
       "4                   0.0                      0.0                     0.0   \n",
       "\n",
       "   Marital_Status_Single  ...  AcceptedCmp5  AcceptedCmp1  AcceptedCmp2  \\\n",
       "0                    0.0  ...             0             0             0   \n",
       "1                    1.0  ...             0             0             1   \n",
       "2                    0.0  ...             0             0             0   \n",
       "3                    0.0  ...             0             0             0   \n",
       "4                    1.0  ...             0             0             0   \n",
       "\n",
       "   Response  Complain  Dependents  Year_Customer  TotalMnt  TotalPurchases  \\\n",
       "0         1         0           0           2014      1190              15   \n",
       "1         1         0           0           2014       577              18   \n",
       "2         0         0           1           2014       251              11   \n",
       "3         0         0           2           2014        11               4   \n",
       "4         1         0           1           2014        91               8   \n",
       "\n",
       "   TotalCampaignAcc  \n",
       "0                 1  \n",
       "1                 2  \n",
       "2                 0  \n",
       "3                 0  \n",
       "4                 2  \n",
       "\n",
       "[5 rows x 49 columns]"
      ]
     },
     "execution_count": 73,
     "metadata": {},
     "output_type": "execute_result"
    }
   ],
   "source": [
    "# merge with numeric data\n",
    "num = data.drop(columns=cat.columns)\n",
    "data_2 = pd.concat([cat_encoded, num], axis= 1)\n",
    "data_2.head()"
   ]
  },
  {
   "cell_type": "markdown",
   "metadata": {},
   "source": [
    "1. Fit linear regression model to training data (70%).\n",
    "2. Evaluate predictions on test data(30%) using RMSE:\n",
    "\n",
    "   Findings: RMSE is exceedingly small compared to median value of dependent variable, indicating good model predictions."
   ]
  },
  {
   "cell_type": "code",
   "execution_count": 75,
   "metadata": {},
   "outputs": [
    {
     "name": "stdout",
     "output_type": "stream",
     "text": [
      "Linear regression model RMSE:  4.617436576207744e-13\n",
      "Median value of dependent variable:  <bound method NDFrame._add_numeric_operations.<locals>.median of 0        6\n",
      "1        7\n",
      "2        5\n",
      "3        2\n",
      "4        2\n",
      "        ..\n",
      "2232    11\n",
      "2233     3\n",
      "2234     5\n",
      "2235    10\n",
      "2236     4\n",
      "Name: NumStorePurchases, Length: 2237, dtype: int64>\n"
     ]
    }
   ],
   "source": [
    "from sklearn.model_selection import train_test_split\n",
    "from sklearn.linear_model import LinearRegression\n",
    "from sklearn.metrics import mean_squared_error\n",
    "\n",
    "# isolate X and Y, perform train-test split\n",
    "X = data_2.drop(columns='NumStorePurchases')\n",
    "y = data_2['NumStorePurchases']\n",
    "\n",
    "X_train, X_test, y_train, y_test = train_test_split(X,y,test_size=0.3,random_state=1)\n",
    "\n",
    "# linear regression model\n",
    "model = LinearRegression()\n",
    "model.fit(X_train,y_train)\n",
    "\n",
    "# predictions\n",
    "preds = model.predict(X_test)\n",
    "\n",
    "# evaluate model using RMSE\n",
    "print(\"Linear regression model RMSE: \", np.sqrt(mean_squared_error(y_test,preds)))\n",
    "print(\"Median value of dependent variable: \", y.median)"
   ]
  },
  {
   "cell_type": "markdown",
   "metadata": {},
   "source": [
    "Identify features significantly affect number of store purchases, using permutation importance.\n",
    "\n",
    "Significant features:\n",
    "\n",
    "TotalPurchases, NumCatalogPurchases, NumWebPurchases, NumDealPurchases\n",
    "\n",
    "Others are not significant"
   ]
  },
  {
   "cell_type": "code",
   "execution_count": 76,
   "metadata": {},
   "outputs": [
    {
     "name": "stdout",
     "output_type": "stream",
     "text": [
      "Collecting eli5\n",
      "  Downloading eli5-0.13.0.tar.gz (216 kB)\n",
      "\u001b[K     |████████████████████████████████| 216 kB 3.7 MB/s eta 0:00:01\n",
      "\u001b[?25hRequirement already satisfied: attrs>17.1.0 in /Users/lesleyzhang/opt/anaconda3/lib/python3.9/site-packages (from eli5) (21.2.0)\n",
      "Collecting jinja2>=3.0.0\n",
      "  Downloading Jinja2-3.1.2-py3-none-any.whl (133 kB)\n",
      "\u001b[K     |████████████████████████████████| 133 kB 22.6 MB/s eta 0:00:01\n",
      "\u001b[?25hRequirement already satisfied: numpy>=1.9.0 in /Users/lesleyzhang/opt/anaconda3/lib/python3.9/site-packages (from eli5) (1.20.3)\n",
      "Requirement already satisfied: scipy in /Users/lesleyzhang/opt/anaconda3/lib/python3.9/site-packages (from eli5) (1.7.1)\n",
      "Requirement already satisfied: six in /Users/lesleyzhang/opt/anaconda3/lib/python3.9/site-packages (from eli5) (1.16.0)\n",
      "Requirement already satisfied: scikit-learn>=0.20 in /Users/lesleyzhang/opt/anaconda3/lib/python3.9/site-packages (from eli5) (0.24.2)\n",
      "Collecting graphviz\n",
      "  Downloading graphviz-0.20.1-py3-none-any.whl (47 kB)\n",
      "\u001b[K     |████████████████████████████████| 47 kB 17.7 MB/s eta 0:00:01\n",
      "\u001b[?25hCollecting tabulate>=0.7.7\n",
      "  Downloading tabulate-0.9.0-py3-none-any.whl (35 kB)\n",
      "Collecting MarkupSafe>=2.0\n",
      "  Downloading MarkupSafe-2.1.1-cp39-cp39-macosx_10_9_x86_64.whl (13 kB)\n",
      "Requirement already satisfied: joblib>=0.11 in /Users/lesleyzhang/opt/anaconda3/lib/python3.9/site-packages (from scikit-learn>=0.20->eli5) (1.1.0)\n",
      "Requirement already satisfied: threadpoolctl>=2.0.0 in /Users/lesleyzhang/opt/anaconda3/lib/python3.9/site-packages (from scikit-learn>=0.20->eli5) (2.2.0)\n",
      "Building wheels for collected packages: eli5\n",
      "  Building wheel for eli5 (setup.py) ... \u001b[?25ldone\n",
      "\u001b[?25h  Created wheel for eli5: filename=eli5-0.13.0-py2.py3-none-any.whl size=107748 sha256=1430ae49ef5821d3d269875d595d4ebb4355dcdc40c29f5637ba75f1d1d90820\n",
      "  Stored in directory: /Users/lesleyzhang/Library/Caches/pip/wheels/7b/26/a5/8460416695a992a2966b41caa5338e5e7fcea98c9d032d055c\n",
      "Successfully built eli5\n",
      "Installing collected packages: MarkupSafe, tabulate, jinja2, graphviz, eli5\n",
      "  Attempting uninstall: MarkupSafe\n",
      "    Found existing installation: MarkupSafe 1.1.1\n",
      "    Uninstalling MarkupSafe-1.1.1:\n",
      "      Successfully uninstalled MarkupSafe-1.1.1\n",
      "  Attempting uninstall: jinja2\n",
      "    Found existing installation: Jinja2 2.11.3\n",
      "    Uninstalling Jinja2-2.11.3:\n",
      "      Successfully uninstalled Jinja2-2.11.3\n",
      "\u001b[31mERROR: pip's dependency resolver does not currently take into account all the packages that are installed. This behaviour is the source of the following dependency conflicts.\n",
      "anaconda-project 0.10.1 requires ruamel-yaml, which is not installed.\n",
      "cookiecutter 1.7.2 requires Jinja2<3.0.0, but you have jinja2 3.1.2 which is incompatible.\n",
      "cookiecutter 1.7.2 requires MarkupSafe<2.0.0, but you have markupsafe 2.1.1 which is incompatible.\u001b[0m\n",
      "Successfully installed MarkupSafe-2.1.1 eli5-0.13.0 graphviz-0.20.1 jinja2-3.1.2 tabulate-0.9.0\n",
      "Note: you may need to restart the kernel to use updated packages.\n"
     ]
    }
   ],
   "source": [
    "%pip install eli5"
   ]
  },
  {
   "cell_type": "code",
   "execution_count": 77,
   "metadata": {},
   "outputs": [],
   "source": [
    "import eli5\n",
    "from eli5.sklearn import PermutationImportance"
   ]
  },
  {
   "cell_type": "code",
   "execution_count": 78,
   "metadata": {},
   "outputs": [
    {
     "data": {
      "text/html": [
       "\n",
       "    <style>\n",
       "    table.eli5-weights tr:hover {\n",
       "        filter: brightness(85%);\n",
       "    }\n",
       "</style>\n",
       "\n",
       "\n",
       "\n",
       "    \n",
       "\n",
       "    \n",
       "\n",
       "    \n",
       "\n",
       "    \n",
       "\n",
       "    \n",
       "\n",
       "    \n",
       "\n",
       "\n",
       "    \n",
       "\n",
       "    \n",
       "\n",
       "    \n",
       "\n",
       "    \n",
       "\n",
       "    \n",
       "\n",
       "    \n",
       "\n",
       "\n",
       "    \n",
       "\n",
       "    \n",
       "\n",
       "    \n",
       "\n",
       "    \n",
       "\n",
       "    \n",
       "        <table class=\"eli5-weights eli5-feature-importances\" style=\"border-collapse: collapse; border: none; margin-top: 0em; table-layout: auto;\">\n",
       "    <thead>\n",
       "    <tr style=\"border: none;\">\n",
       "        <th style=\"padding: 0 1em 0 0.5em; text-align: right; border: none;\">Weight</th>\n",
       "        <th style=\"padding: 0 0.5em 0 0.5em; text-align: left; border: none;\">Feature</th>\n",
       "    </tr>\n",
       "    </thead>\n",
       "    <tbody>\n",
       "    \n",
       "        <tr style=\"background-color: hsl(120, 100.00%, 80.00%); border: none;\">\n",
       "            <td style=\"padding: 0 1em 0 0.5em; text-align: right; border: none;\">\n",
       "                11.9544\n",
       "                \n",
       "                    &plusmn; 1.0736\n",
       "                \n",
       "            </td>\n",
       "            <td style=\"padding: 0 0.5em 0 0.5em; text-align: left; border: none;\">\n",
       "                TotalPurchases\n",
       "            </td>\n",
       "        </tr>\n",
       "    \n",
       "        <tr style=\"background-color: hsl(120, 100.00%, 94.35%); border: none;\">\n",
       "            <td style=\"padding: 0 1em 0 0.5em; text-align: right; border: none;\">\n",
       "                1.9621\n",
       "                \n",
       "                    &plusmn; 0.0445\n",
       "                \n",
       "            </td>\n",
       "            <td style=\"padding: 0 0.5em 0 0.5em; text-align: left; border: none;\">\n",
       "                NumCatalogPurchases\n",
       "            </td>\n",
       "        </tr>\n",
       "    \n",
       "        <tr style=\"background-color: hsl(120, 100.00%, 95.29%); border: none;\">\n",
       "            <td style=\"padding: 0 1em 0 0.5em; text-align: right; border: none;\">\n",
       "                1.5157\n",
       "                \n",
       "                    &plusmn; 0.0982\n",
       "                \n",
       "            </td>\n",
       "            <td style=\"padding: 0 0.5em 0 0.5em; text-align: left; border: none;\">\n",
       "                NumWebPurchases\n",
       "            </td>\n",
       "        </tr>\n",
       "    \n",
       "        <tr style=\"background-color: hsl(120, 100.00%, 97.00%); border: none;\">\n",
       "            <td style=\"padding: 0 1em 0 0.5em; text-align: right; border: none;\">\n",
       "                0.7951\n",
       "                \n",
       "                    &plusmn; 0.0392\n",
       "                \n",
       "            </td>\n",
       "            <td style=\"padding: 0 0.5em 0 0.5em; text-align: left; border: none;\">\n",
       "                NumDealsPurchases\n",
       "            </td>\n",
       "        </tr>\n",
       "    \n",
       "        <tr style=\"background-color: hsl(0, 100.00%, 100.00%); border: none;\">\n",
       "            <td style=\"padding: 0 1em 0 0.5em; text-align: right; border: none;\">\n",
       "                0\n",
       "                \n",
       "                    &plusmn; 0.0000\n",
       "                \n",
       "            </td>\n",
       "            <td style=\"padding: 0 0.5em 0 0.5em; text-align: left; border: none;\">\n",
       "                Country_CA\n",
       "            </td>\n",
       "        </tr>\n",
       "    \n",
       "    \n",
       "        \n",
       "            <tr style=\"background-color: hsl(0, 100.00%, 100.00%); border: none;\">\n",
       "                <td colspan=\"2\" style=\"padding: 0 0.5em 0 0.5em; text-align: center; border: none; white-space: nowrap;\">\n",
       "                    <i>&hellip; 43 more &hellip;</i>\n",
       "                </td>\n",
       "            </tr>\n",
       "        \n",
       "    \n",
       "    </tbody>\n",
       "</table>\n",
       "    \n",
       "\n",
       "    \n",
       "\n",
       "\n",
       "    \n",
       "\n",
       "    \n",
       "\n",
       "    \n",
       "\n",
       "    \n",
       "\n",
       "    \n",
       "\n",
       "    \n",
       "\n",
       "\n",
       "\n"
      ],
      "text/plain": [
       "<IPython.core.display.HTML object>"
      ]
     },
     "execution_count": 78,
     "metadata": {},
     "output_type": "execute_result"
    }
   ],
   "source": [
    "perm = PermutationImportance(model, random_state= 1).fit(X_test,y_test)\n",
    "eli5.show_weights(perm, feature_names= X_test.columns.tolist(),top=5)"
   ]
  },
  {
   "cell_type": "markdown",
   "metadata": {},
   "source": [
    "Explore directionality of these effects, using SHAP values:\n",
    "\n",
    "Findings:\n",
    "\n",
    "    1. Number of store purchases increases with higher number of total purchases.\n",
    "    2. Number of store purchases decreases with higher number of web/catalog/deals purchases.\n",
    "\n",
    "Interpretation:\n",
    "\n",
    "    Customers shopping most in stores are those who shop less via catalog, web, or special deals.\n",
    "    "
   ]
  },
  {
   "cell_type": "code",
   "execution_count": 82,
   "metadata": {},
   "outputs": [
    {
     "name": "stdout",
     "output_type": "stream",
     "text": [
      "Collecting shap\n",
      "  Downloading shap-0.41.0-cp39-cp39-macosx_10_9_x86_64.whl (436 kB)\n",
      "\u001b[K     |████████████████████████████████| 436 kB 3.6 MB/s eta 0:00:01\n",
      "\u001b[?25hCollecting slicer==0.0.7\n",
      "  Downloading slicer-0.0.7-py3-none-any.whl (14 kB)\n",
      "Requirement already satisfied: numba in /Users/lesleyzhang/opt/anaconda3/lib/python3.9/site-packages (from shap) (0.54.1)\n",
      "Requirement already satisfied: packaging>20.9 in /Users/lesleyzhang/opt/anaconda3/lib/python3.9/site-packages (from shap) (21.0)\n",
      "Requirement already satisfied: cloudpickle in /Users/lesleyzhang/opt/anaconda3/lib/python3.9/site-packages (from shap) (2.0.0)\n",
      "Requirement already satisfied: scikit-learn in /Users/lesleyzhang/opt/anaconda3/lib/python3.9/site-packages (from shap) (0.24.2)\n",
      "Requirement already satisfied: tqdm>4.25.0 in /Users/lesleyzhang/opt/anaconda3/lib/python3.9/site-packages (from shap) (4.62.3)\n",
      "Requirement already satisfied: pandas in /Users/lesleyzhang/opt/anaconda3/lib/python3.9/site-packages (from shap) (1.3.4)\n",
      "Requirement already satisfied: scipy in /Users/lesleyzhang/opt/anaconda3/lib/python3.9/site-packages (from shap) (1.7.1)\n",
      "Requirement already satisfied: numpy in /Users/lesleyzhang/opt/anaconda3/lib/python3.9/site-packages (from shap) (1.20.3)\n",
      "Requirement already satisfied: pyparsing>=2.0.2 in /Users/lesleyzhang/opt/anaconda3/lib/python3.9/site-packages (from packaging>20.9->shap) (3.0.4)\n",
      "Requirement already satisfied: llvmlite<0.38,>=0.37.0rc1 in /Users/lesleyzhang/opt/anaconda3/lib/python3.9/site-packages (from numba->shap) (0.37.0)\n",
      "Requirement already satisfied: setuptools in /Users/lesleyzhang/opt/anaconda3/lib/python3.9/site-packages (from numba->shap) (58.0.4)\n",
      "Requirement already satisfied: python-dateutil>=2.7.3 in /Users/lesleyzhang/opt/anaconda3/lib/python3.9/site-packages (from pandas->shap) (2.8.2)\n",
      "Requirement already satisfied: pytz>=2017.3 in /Users/lesleyzhang/opt/anaconda3/lib/python3.9/site-packages (from pandas->shap) (2021.3)\n",
      "Requirement already satisfied: six>=1.5 in /Users/lesleyzhang/opt/anaconda3/lib/python3.9/site-packages (from python-dateutil>=2.7.3->pandas->shap) (1.16.0)\n",
      "Requirement already satisfied: threadpoolctl>=2.0.0 in /Users/lesleyzhang/opt/anaconda3/lib/python3.9/site-packages (from scikit-learn->shap) (2.2.0)\n",
      "Requirement already satisfied: joblib>=0.11 in /Users/lesleyzhang/opt/anaconda3/lib/python3.9/site-packages (from scikit-learn->shap) (1.1.0)\n",
      "Installing collected packages: slicer, shap\n",
      "Successfully installed shap-0.41.0 slicer-0.0.7\n",
      "Note: you may need to restart the kernel to use updated packages.\n"
     ]
    }
   ],
   "source": [
    "%pip install shap"
   ]
  },
  {
   "cell_type": "code",
   "execution_count": 83,
   "metadata": {},
   "outputs": [],
   "source": [
    "import shap"
   ]
  },
  {
   "cell_type": "code",
   "execution_count": 84,
   "metadata": {},
   "outputs": [
    {
     "data": {
      "image/png": "[encoded data removed]",
      "text/plain": [
       "<Figure size 576x252 with 2 Axes>"
      ]
     },
     "metadata": {
      "needs_background": "light"
     },
     "output_type": "display_data"
    }
   ],
   "source": [
    "# calculate shap values\n",
    "ex=shap.Explainer(model, X_train)\n",
    "shap_values = ex(X_test)\n",
    "\n",
    "# plot\n",
    "plt.title('SHAP summary for NumStorePurchases', size = 16)\n",
    "shap.plots.beeswarm(shap_values,max_display=5)"
   ]
  },
  {
   "cell_type": "markdown",
   "metadata": {},
   "source": [
    "Does US fare significantly better than the Rest of World in terms of total purchases?\n",
    "\n",
    "Plot total purchases by country:\n",
    "\n",
    "    Findings:\n",
    "\n",
    "        1. SP(Spain) has the highest purchases\n",
    "        2.US is the last second, therefore, US doesn't fare better than the rest of the world in terms of purchases."
   ]
  },
  {
   "cell_type": "code",
   "execution_count": 85,
   "metadata": {},
   "outputs": [
    {
     "data": {
      "text/plain": [
       "Text(0, 0.5, 'Number of Purchases')"
      ]
     },
     "execution_count": 85,
     "metadata": {},
     "output_type": "execute_result"
    },
    {
     "data": {
      "image/png": "[encoded data removed]",
      "text/plain": [
       "<Figure size 360x288 with 1 Axes>"
      ]
     },
     "metadata": {
      "needs_background": "light"
     },
     "output_type": "display_data"
    }
   ],
   "source": [
    "plt.figure(figsize=(5,4))\n",
    "data.groupby('Country')['TotalPurchases'].sum().sort_values(ascending=False).plot(kind='bar')\n",
    "plt.title('Total Number of Purchases by Country', size = 6)\n",
    "plt.ylabel('Number of Purchases')"
   ]
  },
  {
   "cell_type": "markdown",
   "metadata": {},
   "source": [
    "Plot total amount spent by country:\n",
    "\n",
    "    Findings:\n",
    "    \n",
    "        1.SP(Spain) spent the most amount.\n",
    "        2.US is the last second, so US doesn't fare better than rest of the world in terms of total amount spent on purchases."
   ]
  },
  {
   "cell_type": "code",
   "execution_count": 86,
   "metadata": {},
   "outputs": [
    {
     "data": {
      "text/plain": [
       "Text(0, 0.5, 'Amount Spent')"
      ]
     },
     "execution_count": 86,
     "metadata": {},
     "output_type": "execute_result"
    },
    {
     "data": {
      "image/png": "[encoded data removed]",
      "text/plain": [
       "<Figure size 360x288 with 1 Axes>"
      ]
     },
     "metadata": {
      "needs_background": "light"
     },
     "output_type": "display_data"
    }
   ],
   "source": [
    "plt.figure(figsize=(5,4))\n",
    "data.groupby('Country')['TotalMnt'].sum().sort_values(ascending=False).plot(kind='bar')\n",
    "plt.title('Total Amount Spent by Country',size = 6)\n",
    "plt.ylabel('Amount Spent')"
   ]
  },
  {
   "cell_type": "markdown",
   "metadata": {},
   "source": [
    "Verify are people who buy gold more conservative?\n",
    "\n",
    "Find whether people who spent an above average amount on gold in the last 2 years would have more in store purchases or not.\n",
    "\n",
    "    Findings:\n",
    "        There is a positive relationship, but is it statistically significant?"
   ]
  },
  {
   "cell_type": "code",
   "execution_count": 87,
   "metadata": {},
   "outputs": [
    {
     "data": {
      "text/plain": [
       "<seaborn.axisgrid.FacetGrid at 0x7fa111729cd0>"
      ]
     },
     "execution_count": 87,
     "metadata": {},
     "output_type": "execute_result"
    },
    {
     "data": {
      "image/png": "[encoded data removed]",
      "text/plain": [
       "<Figure size 360x360 with 1 Axes>"
      ]
     },
     "metadata": {
      "needs_background": "light"
     },
     "output_type": "display_data"
    }
   ],
   "source": [
    "sns.lmplot(x='MntGoldProds', y='NumStorePurchases', data=data)"
   ]
  },
  {
   "cell_type": "markdown",
   "metadata": {},
   "source": [
    "Perform kendall correlation analysis(non-parametric test since MntGoldProducts is not normally distributed and contains outliers)\n",
    "    \n",
    "    Findings:\n",
    "        Significant positive correlation"
   ]
  },
  {
   "cell_type": "code",
   "execution_count": 88,
   "metadata": {},
   "outputs": [
    {
     "name": "stdout",
     "output_type": "stream",
     "text": [
      "Kendall correlation(tau):  0.3927160395725131\n",
      "Kendall p-value:  3.55881817905435e-152\n"
     ]
    }
   ],
   "source": [
    "from scipy.stats import kendalltau\n",
    "\n",
    "kendall_corr = kendalltau(x=data['MntGoldProds'], y = data['NumStorePurchases'])\n",
    "\n",
    "print('Kendall correlation(tau): ', kendall_corr.correlation)\n",
    "print('Kendall p-value: ', kendall_corr.pvalue)"
   ]
  },
  {
   "cell_type": "markdown",
   "metadata": {},
   "source": [
    "Fish has Omega 3 fatty acids, good for brain. Accordingly, do \"Married PhD candidates\" have significant relation with amount spent on fish?\n",
    "\n",
    "    Compare 'MntFishProducts' between 'Married PhD Candidates' and all other customers:\n",
    "\n",
    "        Findings:\n",
    "\n",
    "            Married PhD candidates has less significant correlation with amount spent on fish."
   ]
  },
  {
   "cell_type": "code",
   "execution_count": 91,
   "metadata": {},
   "outputs": [
    {
     "data": {
      "text/plain": [
       "<AxesSubplot:xlabel='Married_PhD', ylabel='MntFishProducts'>"
      ]
     },
     "execution_count": 91,
     "metadata": {},
     "output_type": "execute_result"
    },
    {
     "data": {
      "image/png": "[encoded data removed]",
      "text/plain": [
       "<Figure size 180x288 with 1 Axes>"
      ]
     },
     "metadata": {
      "needs_background": "light"
     },
     "output_type": "display_data"
    }
   ],
   "source": [
    "# sum marital status and phd dummy variables\n",
    "data_2['Married_PhD'] = data_2['Marital_Status_Married']+data_2['Education_PhD']\n",
    "data_2['Married_PhD'] = data_2['Married_PhD'].replace({2:'Married-PhD', 1:'Other',0:'Other'})\n",
    "\n",
    "# plot MntFishProducts between Married-PhD and others\n",
    "plt.figure(figsize=(2.5,4))\n",
    "sns.boxplot(x='Married_PhD', y='MntFishProducts',data=data_2)\n"
   ]
  },
  {
   "cell_type": "code",
   "execution_count": 98,
   "metadata": {},
   "outputs": [
    {
     "name": "stdout",
     "output_type": "stream",
     "text": [
      "t-test p-value:  0.005\n"
     ]
    }
   ],
   "source": [
    "# independent t-test and p-value\n",
    "from scipy.stats import ttest_ind\n",
    "pval = ttest_ind(data_2[data_2['Married_PhD']=='Married-PhD']['MntFishProducts'], data_2[data_2['Married_PhD']=='Other']['MntFishProducts']).pvalue\n",
    "print(\"t-test p-value: \", round(pval,3))"
   ]
  },
  {
   "cell_type": "code",
   "execution_count": 105,
   "metadata": {},
   "outputs": [],
   "source": [
    "data_2.drop(columns='Married_PhD',inplace=True)"
   ]
  },
  {
   "cell_type": "markdown",
   "metadata": {},
   "source": [
    "What other factors could be significantly related to amount spent on fish?\n",
    "\n",
    "    Linear regression model"
   ]
  },
  {
   "cell_type": "code",
   "execution_count": 102,
   "metadata": {},
   "outputs": [
    {
     "data": {
      "text/plain": [
       "Text(0, 0.5, 'count')"
      ]
     },
     "execution_count": 102,
     "metadata": {},
     "output_type": "execute_result"
    },
    {
     "data": {
      "image/png": "[encoded data removed]",
      "text/plain": [
       "<Figure size 576x216 with 1 Axes>"
      ]
     },
     "metadata": {
      "needs_background": "light"
     },
     "output_type": "display_data"
    }
   ],
   "source": [
    "plt.figure(figsize=(8,3))\n",
    "sns.distplot(data['MntFishProducts'], kde= False, hist = True, bins = 12)\n",
    "plt.title('MntFishProducts Distribution', size = 16)\n",
    "plt.ylabel('count')"
   ]
  },
  {
   "cell_type": "markdown",
   "metadata": {},
   "source": [
    "Fit linear regression model with 70% training data\n",
    "\n",
    "Evaluate predictions with 30% test data using RMSE:\n",
    "    \n",
    "    Findings:\n",
    "\n",
    "        RMSE is exceedingly small compared to median of dependent variable, indicating good model predictions."
   ]
  },
  {
   "cell_type": "code",
   "execution_count": 106,
   "metadata": {},
   "outputs": [
    {
     "name": "stdout",
     "output_type": "stream",
     "text": [
      "Linear Regression model RMSE:  8.484441090768658e-13\n",
      "Median value of target variable:  12.0\n"
     ]
    }
   ],
   "source": [
    "# isolate X and y variables, perform train-test split\n",
    "X = data_2.drop(columns='MntFishProducts')\n",
    "y = data_2['MntFishProducts']\n",
    "\n",
    "X_train, X_test, y_train,y_test = train_test_split(X,y,test_size=0.3, random_state= 1)\n",
    "\n",
    "# linear regression model\n",
    "model = LinearRegression()\n",
    "model.fit(X_train,y_train)\n",
    "\n",
    "# predictions\n",
    "preds = model.predict(X_test)\n",
    "\n",
    "# evaluate using RMSE\n",
    "print(\"Linear Regression model RMSE: \", np.sqrt(mean_squared_error(y_test,preds)))\n",
    "print(\"Median value of target variable: \", y.median())"
   ]
  },
  {
   "cell_type": "markdown",
   "metadata": {},
   "source": [
    "Identify features that significantly affect amount spent on fish, using permutation importance:\n",
    "\n",
    "    Significant features:\n",
    "\n",
    "        TotalMnt, MntWines, MntMeatProducts, MntGoldProds, MntSweetProducts, MntFurits are significant featuers.\n",
    "\n",
    "        All others are not significant."
   ]
  },
  {
   "cell_type": "code",
   "execution_count": 107,
   "metadata": {},
   "outputs": [
    {
     "data": {
      "text/html": [
       "\n",
       "    <style>\n",
       "    table.eli5-weights tr:hover {\n",
       "        filter: brightness(85%);\n",
       "    }\n",
       "</style>\n",
       "\n",
       "\n",
       "\n",
       "    \n",
       "\n",
       "    \n",
       "\n",
       "    \n",
       "\n",
       "    \n",
       "\n",
       "    \n",
       "\n",
       "    \n",
       "\n",
       "\n",
       "    \n",
       "\n",
       "    \n",
       "\n",
       "    \n",
       "\n",
       "    \n",
       "\n",
       "    \n",
       "\n",
       "    \n",
       "\n",
       "\n",
       "    \n",
       "\n",
       "    \n",
       "\n",
       "    \n",
       "\n",
       "    \n",
       "\n",
       "    \n",
       "        <table class=\"eli5-weights eli5-feature-importances\" style=\"border-collapse: collapse; border: none; margin-top: 0em; table-layout: auto;\">\n",
       "    <thead>\n",
       "    <tr style=\"border: none;\">\n",
       "        <th style=\"padding: 0 1em 0 0.5em; text-align: right; border: none;\">Weight</th>\n",
       "        <th style=\"padding: 0 0.5em 0 0.5em; text-align: left; border: none;\">Feature</th>\n",
       "    </tr>\n",
       "    </thead>\n",
       "    <tbody>\n",
       "    \n",
       "        <tr style=\"background-color: hsl(120, 100.00%, 80.00%); border: none;\">\n",
       "            <td style=\"padding: 0 1em 0 0.5em; text-align: right; border: none;\">\n",
       "                231.8007\n",
       "                \n",
       "                    &plusmn; 15.6371\n",
       "                \n",
       "            </td>\n",
       "            <td style=\"padding: 0 0.5em 0 0.5em; text-align: left; border: none;\">\n",
       "                TotalMnt\n",
       "            </td>\n",
       "        </tr>\n",
       "    \n",
       "        <tr style=\"background-color: hsl(120, 100.00%, 91.29%); border: none;\">\n",
       "            <td style=\"padding: 0 1em 0 0.5em; text-align: right; border: none;\">\n",
       "                70.7519\n",
       "                \n",
       "                    &plusmn; 3.9459\n",
       "                \n",
       "            </td>\n",
       "            <td style=\"padding: 0 0.5em 0 0.5em; text-align: left; border: none;\">\n",
       "                MntWines\n",
       "            </td>\n",
       "        </tr>\n",
       "    \n",
       "        <tr style=\"background-color: hsl(120, 100.00%, 94.80%); border: none;\">\n",
       "            <td style=\"padding: 0 1em 0 0.5em; text-align: right; border: none;\">\n",
       "                33.8252\n",
       "                \n",
       "                    &plusmn; 2.0694\n",
       "                \n",
       "            </td>\n",
       "            <td style=\"padding: 0 0.5em 0 0.5em; text-align: left; border: none;\">\n",
       "                MntMeatProducts\n",
       "            </td>\n",
       "        </tr>\n",
       "    \n",
       "        <tr style=\"background-color: hsl(120, 100.00%, 99.32%); border: none;\">\n",
       "            <td style=\"padding: 0 1em 0 0.5em; text-align: right; border: none;\">\n",
       "                1.8676\n",
       "                \n",
       "                    &plusmn; 0.0755\n",
       "                \n",
       "            </td>\n",
       "            <td style=\"padding: 0 0.5em 0 0.5em; text-align: left; border: none;\">\n",
       "                MntGoldProds\n",
       "            </td>\n",
       "        </tr>\n",
       "    \n",
       "        <tr style=\"background-color: hsl(120, 100.00%, 99.51%); border: none;\">\n",
       "            <td style=\"padding: 0 1em 0 0.5em; text-align: right; border: none;\">\n",
       "                1.1637\n",
       "                \n",
       "                    &plusmn; 0.0601\n",
       "                \n",
       "            </td>\n",
       "            <td style=\"padding: 0 0.5em 0 0.5em; text-align: left; border: none;\">\n",
       "                MntSweetProducts\n",
       "            </td>\n",
       "        </tr>\n",
       "    \n",
       "        <tr style=\"background-color: hsl(120, 100.00%, 99.54%); border: none;\">\n",
       "            <td style=\"padding: 0 1em 0 0.5em; text-align: right; border: none;\">\n",
       "                1.0509\n",
       "                \n",
       "                    &plusmn; 0.0710\n",
       "                \n",
       "            </td>\n",
       "            <td style=\"padding: 0 0.5em 0 0.5em; text-align: left; border: none;\">\n",
       "                MntFruits\n",
       "            </td>\n",
       "        </tr>\n",
       "    \n",
       "        <tr style=\"background-color: hsl(0, 100.00%, 100.00%); border: none;\">\n",
       "            <td style=\"padding: 0 1em 0 0.5em; text-align: right; border: none;\">\n",
       "                0\n",
       "                \n",
       "                    &plusmn; 0.0000\n",
       "                \n",
       "            </td>\n",
       "            <td style=\"padding: 0 0.5em 0 0.5em; text-align: left; border: none;\">\n",
       "                Country_GER\n",
       "            </td>\n",
       "        </tr>\n",
       "    \n",
       "    \n",
       "        \n",
       "            <tr style=\"background-color: hsl(0, 100.00%, 100.00%); border: none;\">\n",
       "                <td colspan=\"2\" style=\"padding: 0 0.5em 0 0.5em; text-align: center; border: none; white-space: nowrap;\">\n",
       "                    <i>&hellip; 41 more &hellip;</i>\n",
       "                </td>\n",
       "            </tr>\n",
       "        \n",
       "    \n",
       "    </tbody>\n",
       "</table>\n",
       "    \n",
       "\n",
       "    \n",
       "\n",
       "\n",
       "    \n",
       "\n",
       "    \n",
       "\n",
       "    \n",
       "\n",
       "    \n",
       "\n",
       "    \n",
       "\n",
       "    \n",
       "\n",
       "\n",
       "\n"
      ],
      "text/plain": [
       "<IPython.core.display.HTML object>"
      ]
     },
     "execution_count": 107,
     "metadata": {},
     "output_type": "execute_result"
    }
   ],
   "source": [
    "perm = PermutationImportance(model, random_state= 1).fit(X_test,y_test)\n",
    "eli5.show_weights(perm, feature_names = X_test.columns.tolist(),top=7)\n"
   ]
  },
  {
   "cell_type": "markdown",
   "metadata": {},
   "source": [
    "Explore directions of these features, using SHAP\n",
    "\n",
    "    Findings:\n",
    "\n",
    "        1. Amount spent on fish increases with higher total amount spent\n",
    "        2. Amount spent on fish decreases with higher amount spent on wine, meat, gold, fruit, sweet products.\n",
    "    \n",
    "    Interpretation:\n",
    "\n",
    "        Customers who spend most on fish are those who spend less on other products."
   ]
  },
  {
   "cell_type": "code",
   "execution_count": 108,
   "metadata": {},
   "outputs": [
    {
     "data": {
      "image/png": "[encoded data removed]",
      "text/plain": [
       "<Figure size 576x309.6 with 2 Axes>"
      ]
     },
     "metadata": {
      "needs_background": "light"
     },
     "output_type": "display_data"
    }
   ],
   "source": [
    "# calculate shap values\n",
    "ex = shap.Explainer(model, X_train)\n",
    "shap_values = ex(X_test)\n",
    "\n",
    "# plot\n",
    "plt.title(\"SHAP summary for MntFishProducts\", size = 16)\n",
    "shap.plots.beeswarm(shap_values, max_display=7)"
   ]
  },
  {
   "cell_type": "markdown",
   "metadata": {},
   "source": [
    "Is there significant relationship between geographical regional and success of ad campaign?\n",
    "\n",
    "Plot success of campaign by region.\n",
    "\n",
    "    Findings:\n",
    "\n",
    "        1. Campaign acceptance rates are low overall.\n",
    "        2. Campaign with highest overall acceptance rate is the most recent campaign.\n",
    "        3. Country with highest acceptance rate in any campaign is Mexico\n",
    "    \n",
    "    Is the effect of region on campaign success statistically significant?"
   ]
  },
  {
   "cell_type": "code",
   "execution_count": 118,
   "metadata": {},
   "outputs": [],
   "source": [
    "# convert country codes to correct nomenclature for choropleth plot\n",
    "data['Country_code'] = data['Country'].replace({'SP': 'ESP', 'CA': 'CAN', 'US': 'USA', 'SA': 'ZAF', 'ME': 'MEX'})\n",
    "\n",
    "# success of campaigns by country code\n",
    "data_cmp = data[['Country_code','AcceptedCmp1', 'AcceptedCmp2', 'AcceptedCmp3', 'AcceptedCmp4', 'AcceptedCmp5', 'Response']].melt(id_vars='Country_code', var_name='Campaign',value_name='Accepted(%)')\n",
    "data_cmp = pd.DataFrame(data_cmp.groupby(['Country_code','Campaign'])['Accepted(%)'].mean()*100).reset_index(drop=False)\n",
    "\n",
    "# rename campaign variables for easier interpreting\n",
    "data_cmp['Campaign']=data_cmp['Campaign'].replace({'AcceptedCmp1': '1',\n",
    "                                                'AcceptedCmp2': '2',\n",
    "                                                'AcceptedCmp3': '3',\n",
    "                                                'AcceptedCmp4': '4',\n",
    "                                                'AcceptedCmp5': '5',\n",
    "                                                 'Response': 'Most recent'\n",
    "                                                })\n"
   ]
  },
  {
   "cell_type": "code",
   "execution_count": 114,
   "metadata": {},
   "outputs": [
    {
     "name": "stdout",
     "output_type": "stream",
     "text": [
      "Collecting plotly\n",
      "  Downloading plotly-5.11.0-py2.py3-none-any.whl (15.3 MB)\n",
      "\u001b[K     |████████████████████████████████| 15.3 MB 10.4 MB/s eta 0:00:01\n",
      "\u001b[?25hCollecting tenacity>=6.2.0\n",
      "  Downloading tenacity-8.1.0-py3-none-any.whl (23 kB)\n",
      "Installing collected packages: tenacity, plotly\n",
      "Successfully installed plotly-5.11.0 tenacity-8.1.0\n",
      "Note: you may need to restart the kernel to use updated packages.\n"
     ]
    }
   ],
   "source": [
    "%pip install plotly"
   ]
  },
  {
   "cell_type": "code",
   "execution_count": 115,
   "metadata": {},
   "outputs": [],
   "source": [
    "# choropleth plot\n",
    "import plotly.express as px\n"
   ]
  },
  {
   "cell_type": "code",
   "execution_count": 117,
   "metadata": {},
   "outputs": [
    {
     "data": {
      "application/vnd.plotly.v1+json": {
       "config": {
        "plotlyServerURL": "https://plot.ly"
       },
       "data": [
        {
         "coloraxis": "coloraxis",
         "geo": "geo5",
         "hovertemplate": "Campaign=1<br>Country_code=%{location}<br>Accepted(%)=%{z}<extra></extra>",
         "locationmode": "ISO-3",
         "locations": [
          "AUS",
          "CAN",
          "ESP",
          "GER",
          "IND",
          "MEX",
          "USA",
          "ZAF"
         ],
         "name": "",
         "type": "choropleth",
         "z": [
          4.375,
          6.7164179104477615,
          7.129798903107861,
          5.833333333333333,
          4.761904761904762,
          0,
          6.422018348623854,
          5.952380952380952
         ]
        },
        {
         "coloraxis": "coloraxis",
         "geo": "geo6",
         "hovertemplate": "Campaign=2<br>Country_code=%{location}<br>Accepted(%)=%{z}<extra></extra>",
         "locationmode": "ISO-3",
         "locations": [
          "AUS",
          "CAN",
          "ESP",
          "GER",
          "IND",
          "MEX",
          "USA",
          "ZAF"
         ],
         "name": "",
         "type": "choropleth",
         "z": [
          0,
          2.2388059701492535,
          1.4625228519195612,
          1.6666666666666667,
          1.3605442176870748,
          0,
          0,
          1.1904761904761905
         ]
        },
        {
         "coloraxis": "coloraxis",
         "geo": "geo3",
         "hovertemplate": "Campaign=3<br>Country_code=%{location}<br>Accepted(%)=%{z}<extra></extra>",
         "locationmode": "ISO-3",
         "locations": [
          "AUS",
          "CAN",
          "ESP",
          "GER",
          "IND",
          "MEX",
          "USA",
          "ZAF"
         ],
         "name": "",
         "type": "choropleth",
         "z": [
          5.625,
          6.7164179104477615,
          7.586837294332724,
          8.333333333333332,
          8.843537414965986,
          33.33333333333333,
          7.339449541284404,
          6.25
         ]
        },
        {
         "coloraxis": "coloraxis",
         "geo": "geo4",
         "hovertemplate": "Campaign=4<br>Country_code=%{location}<br>Accepted(%)=%{z}<extra></extra>",
         "locationmode": "ISO-3",
         "locations": [
          "AUS",
          "CAN",
          "ESP",
          "GER",
          "IND",
          "MEX",
          "USA",
          "ZAF"
         ],
         "name": "",
         "type": "choropleth",
         "z": [
          3.75,
          8.955223880597014,
          8.135283363802559,
          9.166666666666666,
          7.482993197278912,
          0,
          5.5045871559633035,
          5.952380952380952
         ]
        },
        {
         "coloraxis": "coloraxis",
         "geo": "geo",
         "hovertemplate": "Campaign=5<br>Country_code=%{location}<br>Accepted(%)=%{z}<extra></extra>",
         "locationmode": "ISO-3",
         "locations": [
          "AUS",
          "CAN",
          "ESP",
          "GER",
          "IND",
          "MEX",
          "USA",
          "ZAF"
         ],
         "name": "",
         "type": "choropleth",
         "z": [
          8.125,
          7.835820895522389,
          8.043875685557587,
          6.666666666666667,
          4.081632653061225,
          0,
          4.587155963302752,
          6.25
         ]
        },
        {
         "coloraxis": "coloraxis",
         "geo": "geo2",
         "hovertemplate": "Campaign=Most recent<br>Country_code=%{location}<br>Accepted(%)=%{z}<extra></extra>",
         "locationmode": "ISO-3",
         "locations": [
          "AUS",
          "CAN",
          "ESP",
          "GER",
          "IND",
          "MEX",
          "USA",
          "ZAF"
         ],
         "name": "",
         "type": "choropleth",
         "z": [
          14.374999999999998,
          14.17910447761194,
          16.087751371115175,
          14.166666666666666,
          8.843537414965986,
          66.66666666666666,
          11.926605504587156,
          15.476190476190476
         ]
        }
       ],
       "layout": {
        "annotations": [
         {
          "font": {},
          "showarrow": false,
          "text": "Campaign=5",
          "x": 0.2475,
          "xanchor": "center",
          "xref": "paper",
          "y": 0.3,
          "yanchor": "bottom",
          "yref": "paper"
         },
         {
          "font": {},
          "showarrow": false,
          "text": "Campaign=Most recent",
          "x": 0.7525,
          "xanchor": "center",
          "xref": "paper",
          "y": 0.3,
          "yanchor": "bottom",
          "yref": "paper"
         },
         {
          "font": {},
          "showarrow": false,
          "text": "Campaign=3",
          "x": 0.2475,
          "xanchor": "center",
          "xref": "paper",
          "y": 0.6499999999999999,
          "yanchor": "bottom",
          "yref": "paper"
         },
         {
          "font": {},
          "showarrow": false,
          "text": "Campaign=4",
          "x": 0.7525,
          "xanchor": "center",
          "xref": "paper",
          "y": 0.6499999999999999,
          "yanchor": "bottom",
          "yref": "paper"
         },
         {
          "font": {},
          "showarrow": false,
          "text": "Campaign=1",
          "x": 0.2475,
          "xanchor": "center",
          "xref": "paper",
          "y": 1,
          "yanchor": "bottom",
          "yref": "paper"
         },
         {
          "font": {},
          "showarrow": false,
          "text": "Campaign=2",
          "x": 0.7525,
          "xanchor": "center",
          "xref": "paper",
          "y": 1,
          "yanchor": "bottom",
          "yref": "paper"
         }
        ],
        "coloraxis": {
         "colorbar": {
          "title": {
           "text": "Accepted(%)"
          }
         },
         "colorscale": [
          [
           0,
           "#0d0887"
          ],
          [
           0.1111111111111111,
           "#46039f"
          ],
          [
           0.2222222222222222,
           "#7201a8"
          ],
          [
           0.3333333333333333,
           "#9c179e"
          ],
          [
           0.4444444444444444,
           "#bd3786"
          ],
          [
           0.5555555555555556,
           "#d8576b"
          ],
          [
           0.6666666666666666,
           "#ed7953"
          ],
          [
           0.7777777777777778,
           "#fb9f3a"
          ],
          [
           0.8888888888888888,
           "#fdca26"
          ],
          [
           1,
           "#f0f921"
          ]
         ]
        },
        "geo": {
         "center": {},
         "domain": {
          "x": [
           0,
           0.495
          ],
          "y": [
           0,
           0.3
          ]
         },
         "projection": {
          "type": "natural earth"
         }
        },
        "geo2": {
         "center": {},
         "domain": {
          "x": [
           0.505,
           1
          ],
          "y": [
           0,
           0.3
          ]
         },
         "projection": {
          "type": "natural earth"
         }
        },
        "geo3": {
         "center": {},
         "domain": {
          "x": [
           0,
           0.495
          ],
          "y": [
           0.35,
           0.6499999999999999
          ]
         },
         "projection": {
          "type": "natural earth"
         }
        },
        "geo4": {
         "center": {},
         "domain": {
          "x": [
           0.505,
           1
          ],
          "y": [
           0.35,
           0.6499999999999999
          ]
         },
         "projection": {
          "type": "natural earth"
         }
        },
        "geo5": {
         "center": {},
         "domain": {
          "x": [
           0,
           0.495
          ],
          "y": [
           0.7,
           1
          ]
         },
         "projection": {
          "type": "natural earth"
         }
        },
        "geo6": {
         "center": {},
         "domain": {
          "x": [
           0.505,
           1
          ],
          "y": [
           0.7,
           1
          ]
         },
         "projection": {
          "type": "natural earth"
         }
        },
        "legend": {
         "tracegroupgap": 0
        },
        "template": {
         "data": {
          "bar": [
           {
            "error_x": {
             "color": "#2a3f5f"
            },
            "error_y": {
             "color": "#2a3f5f"
            },
            "marker": {
             "line": {
              "color": "#E5ECF6",
              "width": 0.5
             },
             "pattern": {
              "fillmode": "overlay",
              "size": 10,
              "solidity": 0.2
             }
            },
            "type": "bar"
           }
          ],
          "barpolar": [
           {
            "marker": {
             "line": {
              "color": "#E5ECF6",
              "width": 0.5
             },
             "pattern": {
              "fillmode": "overlay",
              "size": 10,
              "solidity": 0.2
             }
            },
            "type": "barpolar"
           }
          ],
          "carpet": [
           {
            "aaxis": {
             "endlinecolor": "#2a3f5f",
             "gridcolor": "white",
             "linecolor": "white",
             "minorgridcolor": "white",
             "startlinecolor": "#2a3f5f"
            },
            "baxis": {
             "endlinecolor": "#2a3f5f",
             "gridcolor": "white",
             "linecolor": "white",
             "minorgridcolor": "white",
             "startlinecolor": "#2a3f5f"
            },
            "type": "carpet"
           }
          ],
          "choropleth": [
           {
            "colorbar": {
             "outlinewidth": 0,
             "ticks": ""
            },
            "type": "choropleth"
           }
          ],
          "contour": [
           {
            "colorbar": {
             "outlinewidth": 0,
             "ticks": ""
            },
            "colorscale": [
             [
              0,
              "#0d0887"
             ],
             [
              0.1111111111111111,
              "#46039f"
             ],
             [
              0.2222222222222222,
              "#7201a8"
             ],
             [
              0.3333333333333333,
              "#9c179e"
             ],
             [
              0.4444444444444444,
              "#bd3786"
             ],
             [
              0.5555555555555556,
              "#d8576b"
             ],
             [
              0.6666666666666666,
              "#ed7953"
             ],
             [
              0.7777777777777778,
              "#fb9f3a"
             ],
             [
              0.8888888888888888,
              "#fdca26"
             ],
             [
              1,
              "#f0f921"
             ]
            ],
            "type": "contour"
           }
          ],
          "contourcarpet": [
           {
            "colorbar": {
             "outlinewidth": 0,
             "ticks": ""
            },
            "type": "contourcarpet"
           }
          ],
          "heatmap": [
           {
            "colorbar": {
             "outlinewidth": 0,
             "ticks": ""
            },
            "colorscale": [
             [
              0,
              "#0d0887"
             ],
             [
              0.1111111111111111,
              "#46039f"
             ],
             [
              0.2222222222222222,
              "#7201a8"
             ],
             [
              0.3333333333333333,
              "#9c179e"
             ],
             [
              0.4444444444444444,
              "#bd3786"
             ],
             [
              0.5555555555555556,
              "#d8576b"
             ],
             [
              0.6666666666666666,
              "#ed7953"
             ],
             [
              0.7777777777777778,
              "#fb9f3a"
             ],
             [
              0.8888888888888888,
              "#fdca26"
             ],
             [
              1,
              "#f0f921"
             ]
            ],
            "type": "heatmap"
           }
          ],
          "heatmapgl": [
           {
            "colorbar": {
             "outlinewidth": 0,
             "ticks": ""
            },
            "colorscale": [
             [
              0,
              "#0d0887"
             ],
             [
              0.1111111111111111,
              "#46039f"
             ],
             [
              0.2222222222222222,
              "#7201a8"
             ],
             [
              0.3333333333333333,
              "#9c179e"
             ],
             [
              0.4444444444444444,
              "#bd3786"
             ],
             [
              0.5555555555555556,
              "#d8576b"
             ],
             [
              0.6666666666666666,
              "#ed7953"
             ],
             [
              0.7777777777777778,
              "#fb9f3a"
             ],
             [
              0.8888888888888888,
              "#fdca26"
             ],
             [
              1,
              "#f0f921"
             ]
            ],
            "type": "heatmapgl"
           }
          ],
          "histogram": [
           {
            "marker": {
             "pattern": {
              "fillmode": "overlay",
              "size": 10,
              "solidity": 0.2
             }
            },
            "type": "histogram"
           }
          ],
          "histogram2d": [
           {
            "colorbar": {
             "outlinewidth": 0,
             "ticks": ""
            },
            "colorscale": [
             [
              0,
              "#0d0887"
             ],
             [
              0.1111111111111111,
              "#46039f"
             ],
             [
              0.2222222222222222,
              "#7201a8"
             ],
             [
              0.3333333333333333,
              "#9c179e"
             ],
             [
              0.4444444444444444,
              "#bd3786"
             ],
             [
              0.5555555555555556,
              "#d8576b"
             ],
             [
              0.6666666666666666,
              "#ed7953"
             ],
             [
              0.7777777777777778,
              "#fb9f3a"
             ],
             [
              0.8888888888888888,
              "#fdca26"
             ],
             [
              1,
              "#f0f921"
             ]
            ],
            "type": "histogram2d"
           }
          ],
          "histogram2dcontour": [
           {
            "colorbar": {
             "outlinewidth": 0,
             "ticks": ""
            },
            "colorscale": [
             [
              0,
              "#0d0887"
             ],
             [
              0.1111111111111111,
              "#46039f"
             ],
             [
              0.2222222222222222,
              "#7201a8"
             ],
             [
              0.3333333333333333,
              "#9c179e"
             ],
             [
              0.4444444444444444,
              "#bd3786"
             ],
             [
              0.5555555555555556,
              "#d8576b"
             ],
             [
              0.6666666666666666,
              "#ed7953"
             ],
             [
              0.7777777777777778,
              "#fb9f3a"
             ],
             [
              0.8888888888888888,
              "#fdca26"
             ],
             [
              1,
              "#f0f921"
             ]
            ],
            "type": "histogram2dcontour"
           }
          ],
          "mesh3d": [
           {
            "colorbar": {
             "outlinewidth": 0,
             "ticks": ""
            },
            "type": "mesh3d"
           }
          ],
          "parcoords": [
           {
            "line": {
             "colorbar": {
              "outlinewidth": 0,
              "ticks": ""
             }
            },
            "type": "parcoords"
           }
          ],
          "pie": [
           {
            "automargin": true,
            "type": "pie"
           }
          ],
          "scatter": [
           {
            "fillpattern": {
             "fillmode": "overlay",
             "size": 10,
             "solidity": 0.2
            },
            "type": "scatter"
           }
          ],
          "scatter3d": [
           {
            "line": {
             "colorbar": {
              "outlinewidth": 0,
              "ticks": ""
             }
            },
            "marker": {
             "colorbar": {
              "outlinewidth": 0,
              "ticks": ""
             }
            },
            "type": "scatter3d"
           }
          ],
          "scattercarpet": [
           {
            "marker": {
             "colorbar": {
              "outlinewidth": 0,
              "ticks": ""
             }
            },
            "type": "scattercarpet"
           }
          ],
          "scattergeo": [
           {
            "marker": {
             "colorbar": {
              "outlinewidth": 0,
              "ticks": ""
             }
            },
            "type": "scattergeo"
           }
          ],
          "scattergl": [
           {
            "marker": {
             "colorbar": {
              "outlinewidth": 0,
              "ticks": ""
             }
            },
            "type": "scattergl"
           }
          ],
          "scattermapbox": [
           {
            "marker": {
             "colorbar": {
              "outlinewidth": 0,
              "ticks": ""
             }
            },
            "type": "scattermapbox"
           }
          ],
          "scatterpolar": [
           {
            "marker": {
             "colorbar": {
              "outlinewidth": 0,
              "ticks": ""
             }
            },
            "type": "scatterpolar"
           }
          ],
          "scatterpolargl": [
           {
            "marker": {
             "colorbar": {
              "outlinewidth": 0,
              "ticks": ""
             }
            },
            "type": "scatterpolargl"
           }
          ],
          "scatterternary": [
           {
            "marker": {
             "colorbar": {
              "outlinewidth": 0,
              "ticks": ""
             }
            },
            "type": "scatterternary"
           }
          ],
          "surface": [
           {
            "colorbar": {
             "outlinewidth": 0,
             "ticks": ""
            },
            "colorscale": [
             [
              0,
              "#0d0887"
             ],
             [
              0.1111111111111111,
              "#46039f"
             ],
             [
              0.2222222222222222,
              "#7201a8"
             ],
             [
              0.3333333333333333,
              "#9c179e"
             ],
             [
              0.4444444444444444,
              "#bd3786"
             ],
             [
              0.5555555555555556,
              "#d8576b"
             ],
             [
              0.6666666666666666,
              "#ed7953"
             ],
             [
              0.7777777777777778,
              "#fb9f3a"
             ],
             [
              0.8888888888888888,
              "#fdca26"
             ],
             [
              1,
              "#f0f921"
             ]
            ],
            "type": "surface"
           }
          ],
          "table": [
           {
            "cells": {
             "fill": {
              "color": "#EBF0F8"
             },
             "line": {
              "color": "white"
             }
            },
            "header": {
             "fill": {
              "color": "#C8D4E3"
             },
             "line": {
              "color": "white"
             }
            },
            "type": "table"
           }
          ]
         },
         "layout": {
          "annotationdefaults": {
           "arrowcolor": "#2a3f5f",
           "arrowhead": 0,
           "arrowwidth": 1
          },
          "autotypenumbers": "strict",
          "coloraxis": {
           "colorbar": {
            "outlinewidth": 0,
            "ticks": ""
           }
          },
          "colorscale": {
           "diverging": [
            [
             0,
             "#8e0152"
            ],
            [
             0.1,
             "#c51b7d"
            ],
            [
             0.2,
             "#de77ae"
            ],
            [
             0.3,
             "#f1b6da"
            ],
            [
             0.4,
             "#fde0ef"
            ],
            [
             0.5,
             "#f7f7f7"
            ],
            [
             0.6,
             "#e6f5d0"
            ],
            [
             0.7,
             "#b8e186"
            ],
            [
             0.8,
             "#7fbc41"
            ],
            [
             0.9,
             "#4d9221"
            ],
            [
             1,
             "#276419"
            ]
           ],
           "sequential": [
            [
             0,
             "#0d0887"
            ],
            [
             0.1111111111111111,
             "#46039f"
            ],
            [
             0.2222222222222222,
             "#7201a8"
            ],
            [
             0.3333333333333333,
             "#9c179e"
            ],
            [
             0.4444444444444444,
             "#bd3786"
            ],
            [
             0.5555555555555556,
             "#d8576b"
            ],
            [
             0.6666666666666666,
             "#ed7953"
            ],
            [
             0.7777777777777778,
             "#fb9f3a"
            ],
            [
             0.8888888888888888,
             "#fdca26"
            ],
            [
             1,
             "#f0f921"
            ]
           ],
           "sequentialminus": [
            [
             0,
             "#0d0887"
            ],
            [
             0.1111111111111111,
             "#46039f"
            ],
            [
             0.2222222222222222,
             "#7201a8"
            ],
            [
             0.3333333333333333,
             "#9c179e"
            ],
            [
             0.4444444444444444,
             "#bd3786"
            ],
            [
             0.5555555555555556,
             "#d8576b"
            ],
            [
             0.6666666666666666,
             "#ed7953"
            ],
            [
             0.7777777777777778,
             "#fb9f3a"
            ],
            [
             0.8888888888888888,
             "#fdca26"
            ],
            [
             1,
             "#f0f921"
            ]
           ]
          },
          "colorway": [
           "#636efa",
           "#EF553B",
           "#00cc96",
           "#ab63fa",
           "#FFA15A",
           "#19d3f3",
           "#FF6692",
           "#B6E880",
           "#FF97FF",
           "#FECB52"
          ],
          "font": {
           "color": "#2a3f5f"
          },
          "geo": {
           "bgcolor": "white",
           "lakecolor": "white",
           "landcolor": "#E5ECF6",
           "showlakes": true,
           "showland": true,
           "subunitcolor": "white"
          },
          "hoverlabel": {
           "align": "left"
          },
          "hovermode": "closest",
          "mapbox": {
           "style": "light"
          },
          "paper_bgcolor": "white",
          "plot_bgcolor": "#E5ECF6",
          "polar": {
           "angularaxis": {
            "gridcolor": "white",
            "linecolor": "white",
            "ticks": ""
           },
           "bgcolor": "#E5ECF6",
           "radialaxis": {
            "gridcolor": "white",
            "linecolor": "white",
            "ticks": ""
           }
          },
          "scene": {
           "xaxis": {
            "backgroundcolor": "#E5ECF6",
            "gridcolor": "white",
            "gridwidth": 2,
            "linecolor": "white",
            "showbackground": true,
            "ticks": "",
            "zerolinecolor": "white"
           },
           "yaxis": {
            "backgroundcolor": "#E5ECF6",
            "gridcolor": "white",
            "gridwidth": 2,
            "linecolor": "white",
            "showbackground": true,
            "ticks": "",
            "zerolinecolor": "white"
           },
           "zaxis": {
            "backgroundcolor": "#E5ECF6",
            "gridcolor": "white",
            "gridwidth": 2,
            "linecolor": "white",
            "showbackground": true,
            "ticks": "",
            "zerolinecolor": "white"
           }
          },
          "shapedefaults": {
           "line": {
            "color": "#2a3f5f"
           }
          },
          "ternary": {
           "aaxis": {
            "gridcolor": "white",
            "linecolor": "white",
            "ticks": ""
           },
           "baxis": {
            "gridcolor": "white",
            "linecolor": "white",
            "ticks": ""
           },
           "bgcolor": "#E5ECF6",
           "caxis": {
            "gridcolor": "white",
            "linecolor": "white",
            "ticks": ""
           }
          },
          "title": {
           "x": 0.05
          },
          "xaxis": {
           "automargin": true,
           "gridcolor": "white",
           "linecolor": "white",
           "ticks": "",
           "title": {
            "standoff": 15
           },
           "zerolinecolor": "white",
           "zerolinewidth": 2
          },
          "yaxis": {
           "automargin": true,
           "gridcolor": "white",
           "linecolor": "white",
           "ticks": "",
           "title": {
            "standoff": 15
           },
           "zerolinecolor": "white",
           "zerolinewidth": 2
          }
         }
        },
        "title": {
         "text": "Advertising Campaign Success Rate by Country"
        },
        "width": 700
       }
      }
     },
     "metadata": {},
     "output_type": "display_data"
    }
   ],
   "source": [
    "fig = px.choropleth(data_cmp, locationmode='ISO-3', color='Accepted(%)', facet_col='Campaign',facet_col_wrap=2,facet_row_spacing=0.05, facet_col_spacing=0.01, width=700,locations='Country_code',projection='natural earth', title='Advertising Campaign Success Rate by Country')\n",
    "fig.show()"
   ]
  },
  {
   "cell_type": "markdown",
   "metadata": {},
   "source": [
    "To see is regional effect statistically significant on campaign success, using Logistic Regression, reporting Chisq p-value for overall model.\n",
    "\n",
    "Findings:\n",
    "\n",
    "    Regional differences in advertising campaign success are statistically significant."
   ]
  },
  {
   "cell_type": "code",
   "execution_count": 120,
   "metadata": {},
   "outputs": [
    {
     "name": "stdout",
     "output_type": "stream",
     "text": [
      "                 Generalized Linear Model Regression Results                  \n",
      "==============================================================================\n",
      "Dep. Variable:           AcceptedCmp1   No. Observations:                 2237\n",
      "Model:                            GLM   Df Residuals:                     2229\n",
      "Model Family:                Binomial   Df Model:                            7\n",
      "Link Function:                  logit   Scale:                          1.0000\n",
      "Method:                          IRLS   Log-Likelihood:                -532.52\n",
      "Date:                Wed, 14 Dec 2022   Deviance:                       1065.0\n",
      "Time:                        18:21:41   Pearson chi2:                 2.23e+03\n",
      "No. Iterations:                    20                                         \n",
      "Covariance Type:            nonrobust                                         \n",
      "==================================================================================\n",
      "                     coef    std err          z      P>|z|      [0.025      0.975]\n",
      "----------------------------------------------------------------------------------\n",
      "Intercept         -3.0845      0.387     -7.980      0.000      -3.842      -2.327\n",
      "Country[T.CA]      0.4534      0.457      0.992      0.321      -0.442       1.349\n",
      "Country[T.GER]     0.3031      0.549      0.552      0.581      -0.772       1.379\n",
      "Country[T.IND]     0.0888      0.547      0.162      0.871      -0.984       1.161\n",
      "Country[T.ME]    -18.4815   1.69e+04     -0.001      0.999   -3.31e+04    3.31e+04\n",
      "Country[T.SA]      0.3245      0.450      0.721      0.471      -0.558       1.207\n",
      "Country[T.SP]      0.5176      0.404      1.281      0.200      -0.274       1.309\n",
      "Country[T.US]      0.4055      0.550      0.738      0.461      -0.672       1.483\n",
      "==================================================================================\n",
      "                 Generalized Linear Model Regression Results                  \n",
      "==============================================================================\n",
      "Dep. Variable:           AcceptedCmp2   No. Observations:                 2237\n",
      "Model:                            GLM   Df Residuals:                     2229\n",
      "Model Family:                Binomial   Df Model:                            7\n",
      "Link Function:                  logit   Scale:                          1.0000\n",
      "Method:                          IRLS   Log-Likelihood:                -154.66\n",
      "Date:                Wed, 14 Dec 2022   Deviance:                       309.32\n",
      "Time:                        18:21:41   Pearson chi2:                 1.97e+03\n",
      "No. Iterations:                    24                                         \n",
      "Covariance Type:            nonrobust                                         \n",
      "==================================================================================\n",
      "                     coef    std err          z      P>|z|      [0.025      0.975]\n",
      "----------------------------------------------------------------------------------\n",
      "Intercept        -25.5661   1.71e+04     -0.001      0.999   -3.35e+04    3.34e+04\n",
      "Country[T.CA]     21.7895   1.71e+04      0.001      0.999   -3.34e+04    3.35e+04\n",
      "Country[T.GER]    21.4885   1.71e+04      0.001      0.999   -3.34e+04    3.35e+04\n",
      "Country[T.IND]    21.2825   1.71e+04      0.001      0.999   -3.34e+04    3.35e+04\n",
      "Country[T.ME]  -2.923e-07   1.26e+05  -2.32e-12      1.000   -2.47e+05    2.47e+05\n",
      "Country[T.SA]     21.1472   1.71e+04      0.001      0.999   -3.34e+04    3.35e+04\n",
      "Country[T.SP]     21.3558   1.71e+04      0.001      0.999   -3.34e+04    3.35e+04\n",
      "Country[T.US]  -2.922e-07   2.68e+04  -1.09e-11      1.000   -5.26e+04    5.26e+04\n",
      "==================================================================================\n",
      "                 Generalized Linear Model Regression Results                  \n",
      "==============================================================================\n",
      "Dep. Variable:           AcceptedCmp3   No. Observations:                 2237\n",
      "Model:                            GLM   Df Residuals:                     2229\n",
      "Model Family:                Binomial   Df Model:                            7\n",
      "Link Function:                  logit   Scale:                          1.0000\n",
      "Method:                          IRLS   Log-Likelihood:                -581.86\n",
      "Date:                Wed, 14 Dec 2022   Deviance:                       1163.7\n",
      "Time:                        18:21:41   Pearson chi2:                 2.24e+03\n",
      "No. Iterations:                     6                                         \n",
      "Covariance Type:            nonrobust                                         \n",
      "==================================================================================\n",
      "                     coef    std err          z      P>|z|      [0.025      0.975]\n",
      "----------------------------------------------------------------------------------\n",
      "Intercept         -2.8201      0.343     -8.219      0.000      -3.493      -2.148\n",
      "Country[T.CA]      0.1890      0.421      0.449      0.654      -0.636       1.014\n",
      "Country[T.GER]     0.4222      0.476      0.886      0.375      -0.511       1.356\n",
      "Country[T.IND]     0.4872      0.450      1.084      0.279      -0.394       1.368\n",
      "Country[T.ME]      2.1269      1.272      1.672      0.094      -0.366       4.620\n",
      "Country[T.SA]      0.1120      0.411      0.273      0.785      -0.693       0.917\n",
      "Country[T.SP]      0.3202      0.362      0.885      0.376      -0.389       1.029\n",
      "Country[T.US]      0.2844      0.503      0.566      0.572      -0.701       1.270\n",
      "==================================================================================\n",
      "                 Generalized Linear Model Regression Results                  \n",
      "==============================================================================\n",
      "Dep. Variable:           AcceptedCmp4   No. Observations:                 2237\n",
      "Model:                            GLM   Df Residuals:                     2229\n",
      "Model Family:                Binomial   Df Model:                            7\n",
      "Link Function:                  logit   Scale:                          1.0000\n",
      "Method:                          IRLS   Log-Likelihood:                -589.87\n",
      "Date:                Wed, 14 Dec 2022   Deviance:                       1179.7\n",
      "Time:                        18:21:41   Pearson chi2:                 2.23e+03\n",
      "No. Iterations:                    20                                         \n",
      "Covariance Type:            nonrobust                                         \n",
      "==================================================================================\n",
      "                     coef    std err          z      P>|z|      [0.025      0.975]\n",
      "----------------------------------------------------------------------------------\n",
      "Intercept         -3.2452      0.416     -7.799      0.000      -4.061      -2.430\n",
      "Country[T.CA]      0.9261      0.468      1.979      0.048       0.009       1.843\n",
      "Country[T.GER]     0.9517      0.523      1.821      0.069      -0.073       1.976\n",
      "Country[T.IND]     0.7304      0.521      1.402      0.161      -0.291       1.752\n",
      "Country[T.ME]    -18.3209   1.69e+04     -0.001      0.999   -3.31e+04    3.31e+04\n",
      "Country[T.SA]      0.4852      0.476      1.020      0.308      -0.447       1.418\n",
      "Country[T.SP]      0.8211      0.431      1.907      0.057      -0.023       1.665\n",
      "Country[T.US]      0.4022      0.591      0.680      0.496      -0.757       1.561\n",
      "==================================================================================\n",
      "                 Generalized Linear Model Regression Results                  \n",
      "==============================================================================\n",
      "Dep. Variable:           AcceptedCmp5   No. Observations:                 2237\n",
      "Model:                            GLM   Df Residuals:                     2229\n",
      "Model Family:                Binomial   Df Model:                            7\n",
      "Link Function:                  logit   Scale:                          1.0000\n",
      "Method:                          IRLS   Log-Likelihood:                -578.17\n",
      "Date:                Wed, 14 Dec 2022   Deviance:                       1156.3\n",
      "Time:                        18:21:41   Pearson chi2:                 2.23e+03\n",
      "No. Iterations:                    20                                         \n",
      "Covariance Type:            nonrobust                                         \n",
      "==================================================================================\n",
      "                     coef    std err          z      P>|z|      [0.025      0.975]\n",
      "----------------------------------------------------------------------------------\n",
      "Intercept         -2.4255      0.289     -8.382      0.000      -2.993      -1.858\n",
      "Country[T.CA]     -0.0394      0.368     -0.107      0.915      -0.761       0.682\n",
      "Country[T.GER]    -0.2136      0.467     -0.458      0.647      -1.128       0.701\n",
      "Country[T.IND]    -0.7315      0.507     -1.442      0.149      -1.726       0.263\n",
      "Country[T.ME]    -19.1406   1.69e+04     -0.001      0.999   -3.31e+04    3.31e+04\n",
      "Country[T.SA]     -0.2826      0.367     -0.770      0.441      -1.001       0.436\n",
      "Country[T.SP]     -0.0109      0.310     -0.035      0.972      -0.618       0.597\n",
      "Country[T.US]     -0.6095      0.542     -1.125      0.260      -1.671       0.452\n",
      "==================================================================================\n",
      "                 Generalized Linear Model Regression Results                  \n",
      "==============================================================================\n",
      "Dep. Variable:               Response   No. Observations:                 2237\n",
      "Model:                            GLM   Df Residuals:                     2229\n",
      "Model Family:                Binomial   Df Model:                            7\n",
      "Link Function:                  logit   Scale:                          1.0000\n",
      "Method:                          IRLS   Log-Likelihood:                -937.28\n",
      "Date:                Wed, 14 Dec 2022   Deviance:                       1874.6\n",
      "Time:                        18:21:41   Pearson chi2:                 2.24e+03\n",
      "No. Iterations:                     5                                         \n",
      "Covariance Type:            nonrobust                                         \n",
      "==================================================================================\n",
      "                     coef    std err          z      P>|z|      [0.025      0.975]\n",
      "----------------------------------------------------------------------------------\n",
      "Intercept         -1.7845      0.225     -7.919      0.000      -2.226      -1.343\n",
      "Country[T.CA]     -0.0160      0.285     -0.056      0.955      -0.575       0.543\n",
      "Country[T.GER]    -0.0170      0.345     -0.049      0.961      -0.694       0.660\n",
      "Country[T.IND]    -0.5484      0.368     -1.492      0.136      -1.269       0.172\n",
      "Country[T.ME]      2.4776      1.245      1.990      0.047       0.037       4.918\n",
      "Country[T.SA]      0.0868      0.271      0.320      0.749      -0.445       0.618\n",
      "Country[T.SP]      0.1328      0.240      0.553      0.580      -0.337       0.603\n",
      "Country[T.US]     -0.2149      0.372     -0.578      0.563      -0.943       0.513\n",
      "==================================================================================\n",
      "\n",
      "Chisq p-values:  [0.0, 0.0, 0.0, 0.0, 0.0, 0.0]\n"
     ]
    }
   ],
   "source": [
    "# calculate logistic regression p-values for campaign acceptance ~ country using generalized linear model\n",
    "import statsmodels.formula.api as smf\n",
    "import statsmodels as sm\n",
    "from scipy import stats\n",
    "\n",
    "# get data of interest for glm\n",
    "data_cmp_wide = data[['Country','AcceptedCmp1', 'AcceptedCmp2', 'AcceptedCmp3', 'AcceptedCmp4', 'AcceptedCmp5', 'Response']]\n",
    "\n",
    "# store statistics results\n",
    "stat_results = []\n",
    "\n",
    "# perform glm\n",
    "for col in data_cmp_wide.drop(columns='Country').columns:\n",
    "    this_data = data_cmp_wide[['Country', col]]\n",
    "    \n",
    "    # define formula\n",
    "    formula = col+'~Country'\n",
    "    \n",
    "    # logistic regression (family=binomial)\n",
    "    model = smf.glm(formula=formula, data= this_data, family = sm.genmod.families.Binomial())\n",
    "    result = model.fit()\n",
    "    \n",
    "    # get chisquare value for overall model (CampaignAccepted ~ Country) and calculate p-value\n",
    "    chisq = result.pearson_chi2\n",
    "    pval = stats.distributions.chi2.sf(chisq,7)\n",
    "    \n",
    "    # append to stat_results\n",
    "    stat_results.append(pval)\n",
    "    \n",
    "    # print stat summary for entire model\n",
    "    print(result.summary())\n",
    "\n",
    "# check results\n",
    "print(\"\\nChisq p-values: \", stat_results)\n",
    "\n"
   ]
  },
  {
   "cell_type": "code",
   "execution_count": 122,
   "metadata": {},
   "outputs": [
    {
     "data": {
      "image/png": "[encoded data removed]",
      "text/plain": [
       "<Figure size 648x432 with 6 Axes>"
      ]
     },
     "metadata": {
      "needs_background": "light"
     },
     "output_type": "display_data"
    }
   ],
   "source": [
    "# plotting\n",
    "# merge in the original country codes provided in dataset\n",
    "countries = data[['Country','Country_code']].drop_duplicates().reset_index(drop=True)\n",
    "data_cmp2 = data_cmp.merge(countries,how='left',on='Country_code')\n",
    "data_cmp2.head()\n",
    "\n",
    "# bar chart\n",
    "g = sns.FacetGrid(data_cmp2,col='Campaign',col_wrap=3)\n",
    "g.map(sns.barplot,'Country','Accepted(%)')\n",
    "for ax, pval in zip(g.axes.flat, stat_results):\n",
    "    ax.text(0,65,\"Chisq p-value: \"+str(pval),fontsize=9)"
   ]
  },
  {
   "cell_type": "markdown",
   "metadata": {},
   "source": [
    "Data Visualization"
   ]
  },
  {
   "cell_type": "markdown",
   "metadata": {},
   "source": [
    "Which marketing campaign is most successful?\n",
    "\n",
    "    Plot marketing campaign overall acceptance rates:\n",
    "\n",
    "        Findings: "
   ]
  },
  {
   "cell_type": "code",
   "execution_count": 123,
   "metadata": {},
   "outputs": [
    {
     "data": {
      "text/plain": [
       "Text(0.5, 1.0, 'Marketing campaign success rate')"
      ]
     },
     "execution_count": 123,
     "metadata": {},
     "output_type": "execute_result"
    },
    {
     "data": {
      "image/png": "[encoded data removed]",
      "text/plain": [
       "<Figure size 432x288 with 1 Axes>"
      ]
     },
     "metadata": {
      "needs_background": "light"
     },
     "output_type": "display_data"
    }
   ],
   "source": [
    "# calculate success rate (percent accepted)\n",
    "cmp_success = pd.DataFrame(data[['AcceptedCmp1', 'AcceptedCmp2', 'AcceptedCmp3', 'AcceptedCmp4', 'AcceptedCmp5', 'Response']].mean()*100,columns=['Percent']).reset_index()\n",
    "\n",
    "# plot\n",
    "sns.barplot(x='Percent',y='index',data=cmp_success.sort_values('Percent'),palette='Blues')\n",
    "plt.xlabel('Accepted(%)')\n",
    "plt.ylabel('Campaign')\n",
    "plt.title('Marketing campaign success rate', size = 6)\n"
   ]
  },
  {
   "cell_type": "markdown",
   "metadata": {},
   "source": [
    "Who does the average customer look like for this company? User Portrait\n",
    "\n",
    "    Findings: a average customer is like\n",
    "    \n",
    "    1. born in 1969\n",
    "    2. became a customer since 2013\n",
    "    3. has an income of approximately $52000 per year\n",
    "    4. has 1 dependent (either kids or teens)\n",
    "    5. made a purchase from company in last 49 days"
   ]
  },
  {
   "cell_type": "code",
   "execution_count": 129,
   "metadata": {},
   "outputs": [
    {
     "data": {
      "text/plain": [
       "['NumDealsPurchases',\n",
       " 'NumWebPurchases',\n",
       " 'NumCatalogPurchases',\n",
       " 'NumStorePurchases',\n",
       " 'NumWebVisitsMonth',\n",
       " 'TotalPurchases',\n",
       " 'TotalCampaignAcc']"
      ]
     },
     "execution_count": 129,
     "metadata": {},
     "output_type": "execute_result"
    }
   ],
   "source": [
    "# list of cols with binary responses\n",
    "binary_cols = [col for col in data.columns if 'Accepted' in col] + ['Response','Complain']\n",
    "binary_cols\n",
    "\n",
    "# list of cols for spending\n",
    "mnt_cols = [col for col in data.columns if 'Mnt' in col]\n",
    "mnt_cols\n",
    "\n",
    "# list of cols for channels\n",
    "channel_cols = [col for col in data.columns if 'Num' in col] +['TotalPurchases','TotalCampaignAcc']\n",
    "channel_cols"
   ]
  },
  {
   "cell_type": "code",
   "execution_count": 130,
   "metadata": {},
   "outputs": [
    {
     "data": {
      "text/html": [
       "<div>\n",
       "<style scoped>\n",
       "    .dataframe tbody tr th:only-of-type {\n",
       "        vertical-align: middle;\n",
       "    }\n",
       "\n",
       "    .dataframe tbody tr th {\n",
       "        vertical-align: top;\n",
       "    }\n",
       "\n",
       "    .dataframe thead th {\n",
       "        text-align: right;\n",
       "    }\n",
       "</style>\n",
       "<table border=\"1\" class=\"dataframe\">\n",
       "  <thead>\n",
       "    <tr style=\"text-align: right;\">\n",
       "      <th></th>\n",
       "      <th>Average</th>\n",
       "    </tr>\n",
       "  </thead>\n",
       "  <tbody>\n",
       "    <tr>\n",
       "      <th>Year_Birth</th>\n",
       "      <td>1968.9</td>\n",
       "    </tr>\n",
       "    <tr>\n",
       "      <th>Year_Customer</th>\n",
       "      <td>2013.0</td>\n",
       "    </tr>\n",
       "    <tr>\n",
       "      <th>Income</th>\n",
       "      <td>52227.4</td>\n",
       "    </tr>\n",
       "    <tr>\n",
       "      <th>Dependents</th>\n",
       "      <td>1.0</td>\n",
       "    </tr>\n",
       "    <tr>\n",
       "      <th>Kidhome</th>\n",
       "      <td>0.4</td>\n",
       "    </tr>\n",
       "    <tr>\n",
       "      <th>Teenhome</th>\n",
       "      <td>0.5</td>\n",
       "    </tr>\n",
       "    <tr>\n",
       "      <th>Recency</th>\n",
       "      <td>49.1</td>\n",
       "    </tr>\n",
       "  </tbody>\n",
       "</table>\n",
       "</div>"
      ],
      "text/plain": [
       "               Average\n",
       "Year_Birth      1968.9\n",
       "Year_Customer   2013.0\n",
       "Income         52227.4\n",
       "Dependents         1.0\n",
       "Kidhome            0.4\n",
       "Teenhome           0.5\n",
       "Recency           49.1"
      ]
     },
     "execution_count": 130,
     "metadata": {},
     "output_type": "execute_result"
    }
   ],
   "source": [
    "# average customer demographics\n",
    "demographics = pd.DataFrame(round(data.drop(columns=binary_cols+mnt_cols+channel_cols).mean(),1),columns=['Average']).reindex(['Year_Birth', 'Year_Customer', 'Income', 'Dependents', 'Kidhome', 'Teenhome', 'Recency'])\n",
    "demographics"
   ]
  },
  {
   "cell_type": "markdown",
   "metadata": {},
   "source": [
    "Which products performed best?\n",
    "\n",
    "    Findings: \n",
    "        Average customer spent:\n",
    "            1. $25-$50 on Fruits, Sweets, Fish, Gold products\n",
    "            2. over $160 on Meat products\n",
    "            3. over $300 on wine products\n",
    "            4. over $600 total\n",
    "        Products performed best:\n",
    "            1. Wine\n",
    "            2. Meat\n"
   ]
  },
  {
   "cell_type": "code",
   "execution_count": 131,
   "metadata": {},
   "outputs": [
    {
     "data": {
      "text/html": [
       "<div>\n",
       "<style scoped>\n",
       "    .dataframe tbody tr th:only-of-type {\n",
       "        vertical-align: middle;\n",
       "    }\n",
       "\n",
       "    .dataframe tbody tr th {\n",
       "        vertical-align: top;\n",
       "    }\n",
       "\n",
       "    .dataframe thead th {\n",
       "        text-align: right;\n",
       "    }\n",
       "</style>\n",
       "<table border=\"1\" class=\"dataframe\">\n",
       "  <thead>\n",
       "    <tr style=\"text-align: right;\">\n",
       "      <th></th>\n",
       "      <th>index</th>\n",
       "      <th>Average</th>\n",
       "    </tr>\n",
       "  </thead>\n",
       "  <tbody>\n",
       "    <tr>\n",
       "      <th>0</th>\n",
       "      <td>MntFruits</td>\n",
       "      <td>26.3</td>\n",
       "    </tr>\n",
       "    <tr>\n",
       "      <th>1</th>\n",
       "      <td>MntSweetProducts</td>\n",
       "      <td>27.1</td>\n",
       "    </tr>\n",
       "    <tr>\n",
       "      <th>2</th>\n",
       "      <td>MntFishProducts</td>\n",
       "      <td>37.5</td>\n",
       "    </tr>\n",
       "    <tr>\n",
       "      <th>3</th>\n",
       "      <td>MntGoldProds</td>\n",
       "      <td>44.0</td>\n",
       "    </tr>\n",
       "    <tr>\n",
       "      <th>4</th>\n",
       "      <td>MntMeatProducts</td>\n",
       "      <td>166.9</td>\n",
       "    </tr>\n",
       "    <tr>\n",
       "      <th>5</th>\n",
       "      <td>MntWines</td>\n",
       "      <td>304.0</td>\n",
       "    </tr>\n",
       "    <tr>\n",
       "      <th>6</th>\n",
       "      <td>TotalMnt</td>\n",
       "      <td>605.7</td>\n",
       "    </tr>\n",
       "  </tbody>\n",
       "</table>\n",
       "</div>"
      ],
      "text/plain": [
       "              index  Average\n",
       "0         MntFruits     26.3\n",
       "1  MntSweetProducts     27.1\n",
       "2   MntFishProducts     37.5\n",
       "3      MntGoldProds     44.0\n",
       "4   MntMeatProducts    166.9\n",
       "5          MntWines    304.0\n",
       "6          TotalMnt    605.7"
      ]
     },
     "execution_count": 131,
     "metadata": {},
     "output_type": "execute_result"
    }
   ],
   "source": [
    "spending = pd.DataFrame(round(data[mnt_cols].mean(),1),columns=['Average']).sort_values(by='Average').reset_index()\n",
    "spending"
   ]
  },
  {
   "cell_type": "code",
   "execution_count": 132,
   "metadata": {},
   "outputs": [
    {
     "data": {
      "image/png": "[encoded data removed]",
      "text/plain": [
       "<Figure size 432x288 with 1 Axes>"
      ]
     },
     "metadata": {
      "needs_background": "light"
     },
     "output_type": "display_data"
    }
   ],
   "source": [
    "# plot\n",
    "ax= sns.barplot(x='Average',y='index',data=spending,palette='Blues')\n",
    "plt.ylabel('Amount Spent on...')\n",
    "\n",
    "# add text labels for each bar's value\n",
    "for p,q in zip(ax.patches, spending['Average']):\n",
    "    ax.text(x=q+40,y=p.get_y()+0.5,s=q,ha='center')"
   ]
  },
  {
   "cell_type": "markdown",
   "metadata": {},
   "source": [
    "Which channels are underperforming?\n",
    "\n",
    "    Findings:\n",
    "        Channels: average customer \n",
    "            1. accepted advertising less than 0.5\n",
    "            2. made 2 deal purchases, nearly 3 catalog purchases, 4 web purchases, nearly 6 store purchases\n",
    "            3. made average 14 total purchases\n",
    "            4. visited web 5 times per month\n",
    "        Underperforming channels:\n",
    "            1. advertising campaigns\n",
    "            2. followed by deals and catalog"
   ]
  },
  {
   "cell_type": "code",
   "execution_count": 133,
   "metadata": {},
   "outputs": [
    {
     "data": {
      "text/html": [
       "<div>\n",
       "<style scoped>\n",
       "    .dataframe tbody tr th:only-of-type {\n",
       "        vertical-align: middle;\n",
       "    }\n",
       "\n",
       "    .dataframe tbody tr th {\n",
       "        vertical-align: top;\n",
       "    }\n",
       "\n",
       "    .dataframe thead th {\n",
       "        text-align: right;\n",
       "    }\n",
       "</style>\n",
       "<table border=\"1\" class=\"dataframe\">\n",
       "  <thead>\n",
       "    <tr style=\"text-align: right;\">\n",
       "      <th></th>\n",
       "      <th>index</th>\n",
       "      <th>Average</th>\n",
       "    </tr>\n",
       "  </thead>\n",
       "  <tbody>\n",
       "    <tr>\n",
       "      <th>0</th>\n",
       "      <td>TotalCampaignAcc</td>\n",
       "      <td>0.4</td>\n",
       "    </tr>\n",
       "    <tr>\n",
       "      <th>1</th>\n",
       "      <td>NumDealsPurchases</td>\n",
       "      <td>2.3</td>\n",
       "    </tr>\n",
       "    <tr>\n",
       "      <th>2</th>\n",
       "      <td>NumCatalogPurchases</td>\n",
       "      <td>2.7</td>\n",
       "    </tr>\n",
       "    <tr>\n",
       "      <th>3</th>\n",
       "      <td>NumWebPurchases</td>\n",
       "      <td>4.1</td>\n",
       "    </tr>\n",
       "    <tr>\n",
       "      <th>4</th>\n",
       "      <td>NumWebVisitsMonth</td>\n",
       "      <td>5.3</td>\n",
       "    </tr>\n",
       "    <tr>\n",
       "      <th>5</th>\n",
       "      <td>NumStorePurchases</td>\n",
       "      <td>5.8</td>\n",
       "    </tr>\n",
       "    <tr>\n",
       "      <th>6</th>\n",
       "      <td>TotalPurchases</td>\n",
       "      <td>14.9</td>\n",
       "    </tr>\n",
       "  </tbody>\n",
       "</table>\n",
       "</div>"
      ],
      "text/plain": [
       "                 index  Average\n",
       "0     TotalCampaignAcc      0.4\n",
       "1    NumDealsPurchases      2.3\n",
       "2  NumCatalogPurchases      2.7\n",
       "3      NumWebPurchases      4.1\n",
       "4    NumWebVisitsMonth      5.3\n",
       "5    NumStorePurchases      5.8\n",
       "6       TotalPurchases     14.9"
      ]
     },
     "execution_count": 133,
     "metadata": {},
     "output_type": "execute_result"
    }
   ],
   "source": [
    "channels = pd.DataFrame(round(data[channel_cols].mean(),1),columns=['Average']).sort_values(by='Average').reset_index()\n",
    "channels"
   ]
  },
  {
   "cell_type": "code",
   "execution_count": 134,
   "metadata": {},
   "outputs": [
    {
     "data": {
      "image/png": "[encoded data removed]",
      "text/plain": [
       "<Figure size 432x288 with 1 Axes>"
      ]
     },
     "metadata": {
      "needs_background": "light"
     },
     "output_type": "display_data"
    }
   ],
   "source": [
    "# plot\n",
    "ax=sns.barplot(x='Average',y='index',data=channels,palette='Blues')\n",
    "plt.ylabel('Number of ...')\n",
    "\n",
    "# add text labels for each bar's value\n",
    "for p,q in zip(ax.patches,channels['Average']):\n",
    "    ax.text(x=q+0.8,y=p.get_y()+0.5,s=q,ha='center')"
   ]
  },
  {
   "cell_type": "code",
   "execution_count": null,
   "metadata": {},
   "outputs": [],
   "source": []
  }
 ],
 "metadata": {
  "interpreter": {
   "hash": "00a94afaf712ac52793636faed0631406d972ca24130884c280856e194735b5e"
  },
  "kernelspec": {
   "display_name": "Python 3.9.7 ('base')",
   "language": "python",
   "name": "python3"
  },
  "language_info": {
   "codemirror_mode": {
    "name": "ipython",
    "version": 3
   },
   "file_extension": ".py",
   "mimetype": "text/x-python",
   "name": "python",
   "nbconvert_exporter": "python",
   "pygments_lexer": "ipython3",
   "version": "3.9.7"
  },
  "orig_nbformat": 4
 },
 "nbformat": 4,
 "nbformat_minor": 2
}
